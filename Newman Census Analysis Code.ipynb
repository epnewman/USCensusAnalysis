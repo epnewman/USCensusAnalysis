{
  "nbformat": 4,
  "nbformat_minor": 0,
  "metadata": {
    "colab": {
      "name": "Project 5.ipynb",
      "provenance": [],
      "collapsed_sections": [
        "yvvxycA4m8ci",
        "41D6bnea4msS",
        "hM5NQyh2CDyN",
        "HyKpdRoC8ro8"
      ]
    },
    "kernelspec": {
      "display_name": "Python 3",
      "name": "python3"
    }
  },
  "cells": [
    {
      "cell_type": "code",
      "metadata": {
        "id": "sQLU8u_hDZ5C"
      },
      "source": [
        "!apt-get install openjdk-8-jdk-headless -qq > /dev/null\n",
        "!wget -q https://www-us.apache.org/dist/spark/spark-2.4.7/spark-2.4.7-bin-hadoop2.7.tgz\n",
        "!tar xf spark-2.4.7-bin-hadoop2.7.tgz\n",
        "!pip install -q findspark\n",
        "\n",
        "import os\n",
        "os.environ[\"JAVA_HOME\"] = \"/usr/lib/jvm/java-8-openjdk-amd64\"\n",
        "os.environ[\"SPARK_HOME\"] = \"/content/spark-2.4.7-bin-hadoop2.7\"\n",
        "\n",
        "import findspark\n",
        "findspark.init()"
      ],
      "execution_count": null,
      "outputs": []
    },
    {
      "cell_type": "code",
      "metadata": {
        "id": "Z7Em1GsFqfQw"
      },
      "source": [
        "from pyspark.sql import SparkSession\n",
        "spark = SparkSession.builder.appName('CensusClustering').getOrCreate()"
      ],
      "execution_count": null,
      "outputs": []
    },
    {
      "cell_type": "markdown",
      "metadata": {
        "id": "631vlwlym3GF"
      },
      "source": [
        "### Data Retrieval & Preparation"
      ]
    },
    {
      "cell_type": "markdown",
      "metadata": {
        "id": "0LC9Iw1Us3Id"
      },
      "source": [
        ""
      ]
    },
    {
      "cell_type": "code",
      "metadata": {
        "colab": {
          "base_uri": "https://localhost:8080/"
        },
        "id": "JvJO4hZ_qtFa",
        "outputId": "98bc058c-c8bb-4a5d-c846-20be2a42ed66"
      },
      "source": [
        "!wget 'https://archive.ics.uci.edu/ml/machine-learning-databases/census1990-mld/USCensus1990.data.txt'"
      ],
      "execution_count": null,
      "outputs": [
        {
          "output_type": "stream",
          "text": [
            "--2020-12-08 15:33:29--  https://archive.ics.uci.edu/ml/machine-learning-databases/census1990-mld/USCensus1990.data.txt\n",
            "Resolving archive.ics.uci.edu (archive.ics.uci.edu)... 128.195.10.252\n",
            "Connecting to archive.ics.uci.edu (archive.ics.uci.edu)|128.195.10.252|:443... connected.\n",
            "HTTP request sent, awaiting response... 200 OK\n",
            "Length: 361344227 (345M) [application/x-httpd-php]\n",
            "Saving to: ‘USCensus1990.data.txt’\n",
            "\n",
            "USCensus1990.data.t 100%[===================>] 344.60M  43.7MB/s    in 8.4s    \n",
            "\n",
            "2020-12-08 15:33:38 (41.0 MB/s) - ‘USCensus1990.data.txt’ saved [361344227/361344227]\n",
            "\n"
          ],
          "name": "stdout"
        }
      ]
    },
    {
      "cell_type": "code",
      "metadata": {
        "id": "gh_sE_u5wb9Z"
      },
      "source": [
        "df = spark.read.csv('USCensus1990.data.txt', header = True, inferSchema=True)"
      ],
      "execution_count": null,
      "outputs": []
    },
    {
      "cell_type": "code",
      "metadata": {
        "id": "GOJm1fBsx5CS"
      },
      "source": [
        "#df.show(10)"
      ],
      "execution_count": null,
      "outputs": []
    },
    {
      "cell_type": "code",
      "metadata": {
        "id": "GON1_IDEzpBz"
      },
      "source": [
        "#Variable I'm going to use\n",
        "df = df.select('dAge', 'iCitizen', 'iDisabl1', 'iEnglish', 'iFertil',\n",
        "          'iLang1',\n",
        "          'iMeans', 'iMilitary', 'iOthrserv',\n",
        "          'dPwgt1', 'dPOB', 'iClass',\n",
        "          'dRpincome', 'iRspouse', 'iSchool', 'iSex',\n",
        "          'iTmpabsnt', 'dTravTime', 'iWork89', 'iYearsch'\n",
        "          )\n",
        "\n",
        "#Create copy if needed later\n",
        "df_vis = df\n",
        "#Want -region of us, place of birth, employment status of parents\n",
        "\n",
        "#Variable removed, maybe add back dRPOB/POB, iImmigr., rvetserv, iVietnam, iWWII, remplr"
      ],
      "execution_count": null,
      "outputs": []
    },
    {
      "cell_type": "code",
      "metadata": {
        "colab": {
          "base_uri": "https://localhost:8080/"
        },
        "id": "q2vheqysiJNS",
        "outputId": "3e39a94b-55d8-4a2d-891f-165a70cc8309"
      },
      "source": [
        "df.show(5)"
      ],
      "execution_count": null,
      "outputs": [
        {
          "output_type": "stream",
          "text": [
            "+----+--------+--------+--------+-------+------+------+---------+---------+------+----+------+---------+--------+-------+----+---------+---------+-------+--------+\n",
            "|dAge|iCitizen|iDisabl1|iEnglish|iFertil|iLang1|iMeans|iMilitary|iOthrserv|dPwgt1|dPOB|iClass|dRpincome|iRspouse|iSchool|iSex|iTmpabsnt|dTravTime|iWork89|iYearsch|\n",
            "+----+--------+--------+--------+-------+------+------+---------+---------+------+----+------+---------+--------+-------+----+---------+---------+-------+--------+\n",
            "|   5|       0|       2|       1|      1|     1|     1|        4|        0|     1|   0|     5|        3|       3|      1|   1|        0|        5|      1|      11|\n",
            "|   6|       0|       2|       0|      3|     2|     1|        4|        0|     2|   0|     7|        2|       1|      1|   1|        0|        1|      1|       5|\n",
            "|   3|       0|       2|       0|      1|     2|    10|        4|        0|     1|   0|     7|        2|       6|      1|   1|        0|        2|      1|      10|\n",
            "|   4|       0|       2|       0|      3|     2|     1|        4|        0|     1|   0|     1|        2|       4|      1|   1|        0|        1|      1|      10|\n",
            "|   7|       0|       2|       0|      3|     2|     0|        4|        0|     1|   0|     0|        2|       1|      1|   1|        3|        0|      2|       5|\n",
            "+----+--------+--------+--------+-------+------+------+---------+---------+------+----+------+---------+--------+-------+----+---------+---------+-------+--------+\n",
            "only showing top 5 rows\n",
            "\n"
          ],
          "name": "stdout"
        }
      ]
    },
    {
      "cell_type": "code",
      "metadata": {
        "colab": {
          "base_uri": "https://localhost:8080/"
        },
        "id": "R9dzwcsL42N1",
        "outputId": "52f0ff4d-097f-41ed-967e-bd04279be43f"
      },
      "source": [
        "df.select('dTravtime').distinct().show()"
      ],
      "execution_count": null,
      "outputs": [
        {
          "output_type": "stream",
          "text": [
            "+---------+\n",
            "|dTravtime|\n",
            "+---------+\n",
            "|        1|\n",
            "|        6|\n",
            "|        3|\n",
            "|        5|\n",
            "|        4|\n",
            "|        2|\n",
            "|        0|\n",
            "+---------+\n",
            "\n"
          ],
          "name": "stdout"
        }
      ]
    },
    {
      "cell_type": "markdown",
      "metadata": {
        "id": "u_KwcYdueoEZ"
      },
      "source": [
        "### Figuring out One-Hot Encoding and best Variable Representations"
      ]
    },
    {
      "cell_type": "code",
      "metadata": {
        "id": "8IjsdAGpeuCK"
      },
      "source": [
        "#dage -> numerical standardized, keep as is\n",
        "#Avail\n",
        "#from pyspark.ml.feature import OneHotEncoderEstimator\n",
        "\n",
        "#encoder = OneHotEncoderEstimator(inputCols=['iAvail'], outputCols=['Work Availability'])\n",
        "#df = encoder.fit(df).transform(df)"
      ],
      "execution_count": null,
      "outputs": []
    },
    {
      "cell_type": "code",
      "metadata": {
        "id": "YOWc0AB-jfb3"
      },
      "source": [
        "from pyspark.ml.feature import OneHotEncoderEstimator\n",
        "encoder = OneHotEncoderEstimator(inputCols=['iCitizen'], outputCols=['Citizen Status'])\n",
        "df = encoder.fit(df).transform(df)"
      ],
      "execution_count": null,
      "outputs": []
    },
    {
      "cell_type": "code",
      "metadata": {
        "id": "AbyMJ49HkDv-"
      },
      "source": [
        "encoder = OneHotEncoderEstimator(inputCols=['iDisabl1'], outputCols=['Disability Status'])\n",
        "df = encoder.fit(df).transform(df)"
      ],
      "execution_count": null,
      "outputs": []
    },
    {
      "cell_type": "code",
      "metadata": {
        "id": "tWFjFlKBkTv-"
      },
      "source": [
        "encoder = OneHotEncoderEstimator(inputCols=['iLang1'], outputCols=['Numb Lang Spke'])\n",
        "df = encoder.fit(df).transform(df)"
      ],
      "execution_count": null,
      "outputs": []
    },
    {
      "cell_type": "code",
      "metadata": {
        "id": "0qMeH7dChT0S"
      },
      "source": [
        "encoder = OneHotEncoderEstimator(inputCols=['iClass'], outputCols=['Work Class'])\n",
        "df = encoder.fit(df).transform(df)"
      ],
      "execution_count": null,
      "outputs": []
    },
    {
      "cell_type": "code",
      "metadata": {
        "id": "p1p7O7_Dld5U"
      },
      "source": [
        "#Do something with Means of transportation encoding\n",
        "encoder = OneHotEncoderEstimator(inputCols=['iMeans'], outputCols=['Means Transpo'])\n",
        "df = encoder.fit(df).transform(df)"
      ],
      "execution_count": null,
      "outputs": []
    },
    {
      "cell_type": "code",
      "metadata": {
        "id": "Jrj63rSqlp6W"
      },
      "source": [
        "#military service - 0/4 -> no, 1,2,3 -> yes\n",
        "encoder = OneHotEncoderEstimator(inputCols=['iMilitary'], outputCols=['Military Status'])\n",
        "df = encoder.fit(df).transform(df)"
      ],
      "execution_count": null,
      "outputs": []
    },
    {
      "cell_type": "code",
      "metadata": {
        "id": "2aXaM0jXl5xP"
      },
      "source": [
        "#RPOB -> reduce variability\n",
        "from pyspark.sql import functions as F\n",
        "\n",
        "encoder = OneHotEncoderEstimator(inputCols=['dPOB'], outputCols=['POB'])\n",
        "df = encoder.fit(df).transform(df)"
      ],
      "execution_count": null,
      "outputs": []
    },
    {
      "cell_type": "code",
      "metadata": {
        "id": "uX3ckS35nWIf"
      },
      "source": [
        "encoder = OneHotEncoderEstimator(inputCols=['iRspouse'], outputCols=['Spouse Status'])\n",
        "df = encoder.fit(df).transform(df)"
      ],
      "execution_count": null,
      "outputs": []
    },
    {
      "cell_type": "code",
      "metadata": {
        "id": "fVdxlFQDoeoE"
      },
      "source": [
        "encoder = OneHotEncoderEstimator(inputCols=['iSchool'], outputCols=['School Enrollment'])\n",
        "df = encoder.fit(df).transform(df)"
      ],
      "execution_count": null,
      "outputs": []
    },
    {
      "cell_type": "code",
      "metadata": {
        "id": "5gwWngB4pFlM"
      },
      "source": [
        "#tmpabsnt, reduce\n",
        "encoder = OneHotEncoderEstimator(inputCols=['iTmpabsnt'], outputCols=['Work Absnce'])\n",
        "df = encoder.fit(df).transform(df)"
      ],
      "execution_count": null,
      "outputs": []
    },
    {
      "cell_type": "code",
      "metadata": {
        "id": "G4nIvyv-pHYj"
      },
      "source": [
        "encoder = OneHotEncoderEstimator(inputCols=['iWork89'], outputCols=['Work 89'])\n",
        "df = encoder.fit(df).transform(df)"
      ],
      "execution_count": null,
      "outputs": []
    },
    {
      "cell_type": "code",
      "metadata": {
        "id": "riocYEEysU8C"
      },
      "source": [
        "encoder = OneHotEncoderEstimator(inputCols=['dAge'], outputCols=['Age'])\n",
        "df = encoder.fit(df).transform(df)"
      ],
      "execution_count": null,
      "outputs": []
    },
    {
      "cell_type": "code",
      "metadata": {
        "id": "N7Sx0W-lslJx"
      },
      "source": [
        "encoder = OneHotEncoderEstimator(inputCols=['iFertil'], outputCols=['Child Numb'])\n",
        "df = encoder.fit(df).transform(df)"
      ],
      "execution_count": null,
      "outputs": []
    },
    {
      "cell_type": "code",
      "metadata": {
        "id": "LCggVYZns_KK"
      },
      "source": [
        "encoder = OneHotEncoderEstimator(inputCols=['dPwgt1'], outputCols=['Weight'])\n",
        "df = encoder.fit(df).transform(df)"
      ],
      "execution_count": null,
      "outputs": []
    },
    {
      "cell_type": "code",
      "metadata": {
        "id": "TUfkBKjbtIS3"
      },
      "source": [
        "encoder = OneHotEncoderEstimator(inputCols=['dRpincome'], outputCols=['Income'])\n",
        "df = encoder.fit(df).transform(df)"
      ],
      "execution_count": null,
      "outputs": []
    },
    {
      "cell_type": "code",
      "metadata": {
        "id": "ze5t3-oYtcAH"
      },
      "source": [
        "encoder = OneHotEncoderEstimator(inputCols=['dTravTime'], outputCols=['Trav Time'])\n",
        "df = encoder.fit(df).transform(df)"
      ],
      "execution_count": null,
      "outputs": []
    },
    {
      "cell_type": "code",
      "metadata": {
        "id": "LazZBQzwtiC3"
      },
      "source": [
        "encoder = OneHotEncoderEstimator(inputCols=['iYearsch'], outputCols=['SchYr'])\n",
        "df = encoder.fit(df).transform(df)"
      ],
      "execution_count": null,
      "outputs": []
    },
    {
      "cell_type": "code",
      "metadata": {
        "id": "a5rJd-zDuV8f"
      },
      "source": [
        "encoder = OneHotEncoderEstimator(inputCols=['iEnglish'], outputCols=['Eng'])\n",
        "df = encoder.fit(df).transform(df)"
      ],
      "execution_count": null,
      "outputs": []
    },
    {
      "cell_type": "markdown",
      "metadata": {
        "id": "M1DOCb6JdA_E"
      },
      "source": [
        "### Data Selection after One-Hot Encoding"
      ]
    },
    {
      "cell_type": "code",
      "metadata": {
        "id": "D61tNoP4dD4k"
      },
      "source": [
        "df1 = df.select('Age', 'Citizen Status', 'Disability Status', 'Eng',\n",
        "                'Child Numb', 'Numb Lang Spke', 'Means Transpo', 'Military Status',\n",
        "                'Weight', 'Income', 'Spouse Status', 'Work Class',\n",
        "                'School Enrollment', 'Work Absnce', 'Trav Time', 'Work 89',\n",
        "                'SchYr', 'POB','iSex', #variables for later use on line below, add sex\n",
        "                'dAge', 'iCitizen', 'iDisabl1', 'iEnglish','iFertil', 'iLang1', 'iMeans', 'iMilitary','dPwgt1',\n",
        "                'dRpincome','iRspouse','iClass','iSchool','iTmpabsnt', 'dPOB','iWork89',\n",
        "                'dTravTime', 'iYearsch')"
      ],
      "execution_count": null,
      "outputs": []
    },
    {
      "cell_type": "code",
      "metadata": {
        "id": "552GOUwnB5zi"
      },
      "source": [
        ""
      ],
      "execution_count": null,
      "outputs": []
    },
    {
      "cell_type": "code",
      "metadata": {
        "colab": {
          "base_uri": "https://localhost:8080/"
        },
        "id": "XBH6vkBvflvO",
        "outputId": "75c07703-0d45-47da-89cf-c43d3aec6929"
      },
      "source": [
        "df1.show(3)"
      ],
      "execution_count": null,
      "outputs": [
        {
          "output_type": "stream",
          "text": [
            "+-------------+--------------+-----------------+-------------+--------------+--------------+---------------+---------------+-------------+-------------+-------------+-------------+-----------------+-------------+-------------+-------------+---------------+-------------+----+----+--------+--------+--------+-------+------+------+---------+------+---------+--------+------+-------+---------+----+-------+---------+--------+\n",
            "|          Age|Citizen Status|Disability Status|          Eng|    Child Numb|Numb Lang Spke|  Means Transpo|Military Status|       Weight|       Income|Spouse Status|   Work Class|School Enrollment|  Work Absnce|    Trav Time|      Work 89|          SchYr|          POB|iSex|dAge|iCitizen|iDisabl1|iEnglish|iFertil|iLang1|iMeans|iMilitary|dPwgt1|dRpincome|iRspouse|iClass|iSchool|iTmpabsnt|dPOB|iWork89|dTravTime|iYearsch|\n",
            "+-------------+--------------+-----------------+-------------+--------------+--------------+---------------+---------------+-------------+-------------+-------------+-------------+-----------------+-------------+-------------+-------------+---------------+-------------+----+----+--------+--------+--------+-------+------+------+---------+------+---------+--------+------+-------+---------+----+-------+---------+--------+\n",
            "|(7,[5],[1.0])| (4,[0],[1.0])|        (2,[],[])|(4,[1],[1.0])|(13,[1],[1.0])| (2,[1],[1.0])| (12,[1],[1.0])|      (4,[],[])|(3,[1],[1.0])|(5,[3],[1.0])|(6,[3],[1.0])|(9,[5],[1.0])|    (3,[1],[1.0])|(3,[0],[1.0])|(6,[5],[1.0])|(2,[1],[1.0])|(17,[11],[1.0])|(6,[0],[1.0])|   1|   5|       0|       2|       1|      1|     1|     1|        4|     1|        3|       3|     5|      1|        0|   0|      1|        5|      11|\n",
            "|(7,[6],[1.0])| (4,[0],[1.0])|        (2,[],[])|(4,[0],[1.0])|(13,[3],[1.0])|     (2,[],[])| (12,[1],[1.0])|      (4,[],[])|(3,[2],[1.0])|(5,[2],[1.0])|(6,[1],[1.0])|(9,[7],[1.0])|    (3,[1],[1.0])|(3,[0],[1.0])|(6,[1],[1.0])|(2,[1],[1.0])| (17,[5],[1.0])|(6,[0],[1.0])|   1|   6|       0|       2|       0|      3|     2|     1|        4|     2|        2|       1|     7|      1|        0|   0|      1|        1|       5|\n",
            "|(7,[3],[1.0])| (4,[0],[1.0])|        (2,[],[])|(4,[0],[1.0])|(13,[1],[1.0])|     (2,[],[])|(12,[10],[1.0])|      (4,[],[])|(3,[1],[1.0])|(5,[2],[1.0])|    (6,[],[])|(9,[7],[1.0])|    (3,[1],[1.0])|(3,[0],[1.0])|(6,[2],[1.0])|(2,[1],[1.0])|(17,[10],[1.0])|(6,[0],[1.0])|   1|   3|       0|       2|       0|      1|     2|    10|        4|     1|        2|       6|     7|      1|        0|   0|      1|        2|      10|\n",
            "+-------------+--------------+-----------------+-------------+--------------+--------------+---------------+---------------+-------------+-------------+-------------+-------------+-----------------+-------------+-------------+-------------+---------------+-------------+----+----+--------+--------+--------+-------+------+------+---------+------+---------+--------+------+-------+---------+----+-------+---------+--------+\n",
            "only showing top 3 rows\n",
            "\n"
          ],
          "name": "stdout"
        }
      ]
    },
    {
      "cell_type": "code",
      "metadata": {
        "colab": {
          "base_uri": "https://localhost:8080/"
        },
        "id": "03YjP70et35n",
        "outputId": "f5c48a82-331e-44d1-f859-4e81f74fad1b"
      },
      "source": [
        "df1.columns[0:19]"
      ],
      "execution_count": null,
      "outputs": [
        {
          "output_type": "execute_result",
          "data": {
            "text/plain": [
              "['Age',\n",
              " 'Citizen Status',\n",
              " 'Disability Status',\n",
              " 'Eng',\n",
              " 'Child Numb',\n",
              " 'Numb Lang Spke',\n",
              " 'Means Transpo',\n",
              " 'Military Status',\n",
              " 'Weight',\n",
              " 'Income',\n",
              " 'Spouse Status',\n",
              " 'Work Class',\n",
              " 'School Enrollment',\n",
              " 'Work Absnce',\n",
              " 'Trav Time',\n",
              " 'Work 89',\n",
              " 'SchYr',\n",
              " 'POB',\n",
              " 'iSex']"
            ]
          },
          "metadata": {
            "tags": []
          },
          "execution_count": 44
        }
      ]
    },
    {
      "cell_type": "markdown",
      "metadata": {
        "id": "yvvxycA4m8ci"
      },
      "source": [
        "### Correlation Matrix to help Analyze Variable for Data Dimensionality Reduction"
      ]
    },
    {
      "cell_type": "code",
      "metadata": {
        "id": "RecV7P299GCE"
      },
      "source": [
        "#import pandas as pd"
      ],
      "execution_count": null,
      "outputs": []
    },
    {
      "cell_type": "code",
      "metadata": {
        "id": "1OZE9T9spa5F"
      },
      "source": [
        "#dfp = pd.read_csv('USCensus1990.data.txt')"
      ],
      "execution_count": null,
      "outputs": []
    },
    {
      "cell_type": "code",
      "metadata": {
        "colab": {
          "base_uri": "https://localhost:8080/",
          "height": 87
        },
        "id": "VZ5lsfaSq4zy",
        "outputId": "f1aa3cd9-9895-4156-b88e-9333351e7420"
      },
      "source": [
        "\"\"\"dfp = dfp[['dAge', 'iAvail', 'iCitizen', 'iDisabl1', 'iDisabl2', 'iEnglish', 'iFertil', 'dHispanic', 'dHour89', 'iImmigr',\n",
        "          'dIncome1', 'dIncome2', 'dIncome3', 'dIncome4', 'dIncome5', 'dIncome6', 'dIncome7', 'dIncome8', 'iLang1', 'iLooking', 'iMarital',\n",
        "          'iMeans', 'iMilitary', 'iMobillim', 'dOccup', 'iOthrserv', 'iPerscare', 'dPOB', \n",
        "          'dPoverty', 'dPwgt1', 'dRearning', 'iRelat1', 'iRelat2', 'iRemplpar', 'iRlabor', \n",
        "          'dRpincome', 'iRPOB', 'iRspouse', 'iRvetserv', 'iSchool', 'iSex',\n",
        "          'iTmpabsnt', 'dTravtime', 'iVietnam', 'dWeek89', 'iWork89', 'iWWII', 'iYearsch',\n",
        "          'dYrsserv']]\"\"\""
      ],
      "execution_count": null,
      "outputs": [
        {
          "output_type": "execute_result",
          "data": {
            "application/vnd.google.colaboratory.intrinsic+json": {
              "type": "string"
            },
            "text/plain": [
              "\"dfp = dfp[['dAge', 'iAvail', 'iCitizen', 'iDisabl1', 'iDisabl2', 'iEnglish', 'iFertil', 'dHispanic', 'dHour89', 'iImmigr',\\n          'dIncome1', 'dIncome2', 'dIncome3', 'dIncome4', 'dIncome5', 'dIncome6', 'dIncome7', 'dIncome8', 'iLang1', 'iLooking', 'iMarital',\\n          'iMeans', 'iMilitary', 'iMobillim', 'dOccup', 'iOthrserv', 'iPerscare', 'dPOB', \\n          'dPoverty', 'dPwgt1', 'dRearning', 'iRelat1', 'iRelat2', 'iRemplpar', 'iRlabor', \\n          'dRpincome', 'iRPOB', 'iRspouse', 'iRvetserv', 'iSchool', 'iSex',\\n          'iTmpabsnt', 'dTravtime', 'iVietnam', 'dWeek89', 'iWork89', 'iWWII', 'iYearsch',\\n          'dYrsserv']]\""
            ]
          },
          "metadata": {
            "tags": []
          },
          "execution_count": 56
        }
      ]
    },
    {
      "cell_type": "code",
      "metadata": {
        "id": "bkPqsFGwwFLP"
      },
      "source": [
        "#dfp.head()"
      ],
      "execution_count": null,
      "outputs": []
    },
    {
      "cell_type": "code",
      "metadata": {
        "id": "7hXNd8RXwIwM"
      },
      "source": [
        "#dfp.corr().to_csv('VarCorrs.csv')"
      ],
      "execution_count": null,
      "outputs": []
    },
    {
      "cell_type": "code",
      "metadata": {
        "colab": {
          "base_uri": "https://localhost:8080/",
          "height": 17
        },
        "id": "4JF0Rl8c0j2d",
        "outputId": "f2ffed82-889c-4db8-9313-575ac7475cb6"
      },
      "source": [
        "#from google.colab import files\n",
        "#files.download(\"VarCorrs.csv\")"
      ],
      "execution_count": null,
      "outputs": [
        {
          "output_type": "display_data",
          "data": {
            "application/javascript": [
              "\n",
              "    async function download(id, filename, size) {\n",
              "      if (!google.colab.kernel.accessAllowed) {\n",
              "        return;\n",
              "      }\n",
              "      const div = document.createElement('div');\n",
              "      const label = document.createElement('label');\n",
              "      label.textContent = `Downloading \"${filename}\": `;\n",
              "      div.appendChild(label);\n",
              "      const progress = document.createElement('progress');\n",
              "      progress.max = size;\n",
              "      div.appendChild(progress);\n",
              "      document.body.appendChild(div);\n",
              "\n",
              "      const buffers = [];\n",
              "      let downloaded = 0;\n",
              "\n",
              "      const channel = await google.colab.kernel.comms.open(id);\n",
              "      // Send a message to notify the kernel that we're ready.\n",
              "      channel.send({})\n",
              "\n",
              "      for await (const message of channel.messages) {\n",
              "        // Send a message to notify the kernel that we're ready.\n",
              "        channel.send({})\n",
              "        if (message.buffers) {\n",
              "          for (const buffer of message.buffers) {\n",
              "            buffers.push(buffer);\n",
              "            downloaded += buffer.byteLength;\n",
              "            progress.value = downloaded;\n",
              "          }\n",
              "        }\n",
              "      }\n",
              "      const blob = new Blob(buffers, {type: 'application/binary'});\n",
              "      const a = document.createElement('a');\n",
              "      a.href = window.URL.createObjectURL(blob);\n",
              "      a.download = filename;\n",
              "      div.appendChild(a);\n",
              "      a.click();\n",
              "      div.remove();\n",
              "    }\n",
              "  "
            ],
            "text/plain": [
              "<IPython.core.display.Javascript object>"
            ]
          },
          "metadata": {
            "tags": []
          }
        },
        {
          "output_type": "display_data",
          "data": {
            "application/javascript": [
              "download(\"download_12d6b5eb-a020-4e00-9e3c-5da12ebdaf9a\", \"VarCorrs.csv\", 49003)"
            ],
            "text/plain": [
              "<IPython.core.display.Javascript object>"
            ]
          },
          "metadata": {
            "tags": []
          }
        }
      ]
    },
    {
      "cell_type": "markdown",
      "metadata": {
        "id": "41D6bnea4msS"
      },
      "source": [
        "### Exploratory Analysis"
      ]
    },
    {
      "cell_type": "code",
      "metadata": {
        "colab": {
          "base_uri": "https://localhost:8080/",
          "height": 1000
        },
        "id": "cVsV259p4od_",
        "outputId": "13db748d-48a0-49bf-bb41-b32af0e3f160"
      },
      "source": [
        "df_quant = df1.select('dAge', 'iFertil', 'dPwgt1', 'dRearning', 'dRpincome', 'dTravTime', 'iYearsch')     \n",
        "\n",
        "dfquant2 = df_quant.withColumnRenamed(\"dAge\",\"Age\") \\\n",
        "    .withColumnRenamed(\"iFertil\",\"Numb Children\") \\\n",
        "    .withColumnRenamed(\"dPwgt1\",\"Weight\") \\\n",
        "    .withColumnRenamed(\"dRpincome\",\"Personal Income\") \\\n",
        "    .withColumnRenamed(\"iYearsch\",\"Year in School\")\n",
        "\n",
        "dfquant2.summary().show()"
      ],
      "execution_count": null,
      "outputs": [
        {
          "output_type": "error",
          "ename": "AnalysisException",
          "evalue": "ignored",
          "traceback": [
            "\u001b[0;31m---------------------------------------------------------------------------\u001b[0m",
            "\u001b[0;31mPy4JJavaError\u001b[0m                             Traceback (most recent call last)",
            "\u001b[0;32m/content/spark-2.4.7-bin-hadoop2.7/python/pyspark/sql/utils.py\u001b[0m in \u001b[0;36mdeco\u001b[0;34m(*a, **kw)\u001b[0m\n\u001b[1;32m     62\u001b[0m         \u001b[0;32mtry\u001b[0m\u001b[0;34m:\u001b[0m\u001b[0;34m\u001b[0m\u001b[0;34m\u001b[0m\u001b[0m\n\u001b[0;32m---> 63\u001b[0;31m             \u001b[0;32mreturn\u001b[0m \u001b[0mf\u001b[0m\u001b[0;34m(\u001b[0m\u001b[0;34m*\u001b[0m\u001b[0ma\u001b[0m\u001b[0;34m,\u001b[0m \u001b[0;34m**\u001b[0m\u001b[0mkw\u001b[0m\u001b[0;34m)\u001b[0m\u001b[0;34m\u001b[0m\u001b[0;34m\u001b[0m\u001b[0m\n\u001b[0m\u001b[1;32m     64\u001b[0m         \u001b[0;32mexcept\u001b[0m \u001b[0mpy4j\u001b[0m\u001b[0;34m.\u001b[0m\u001b[0mprotocol\u001b[0m\u001b[0;34m.\u001b[0m\u001b[0mPy4JJavaError\u001b[0m \u001b[0;32mas\u001b[0m \u001b[0me\u001b[0m\u001b[0;34m:\u001b[0m\u001b[0;34m\u001b[0m\u001b[0;34m\u001b[0m\u001b[0m\n",
            "\u001b[0;32m/content/spark-2.4.7-bin-hadoop2.7/python/lib/py4j-0.10.7-src.zip/py4j/protocol.py\u001b[0m in \u001b[0;36mget_return_value\u001b[0;34m(answer, gateway_client, target_id, name)\u001b[0m\n\u001b[1;32m    327\u001b[0m                     \u001b[0;34m\"An error occurred while calling {0}{1}{2}.\\n\"\u001b[0m\u001b[0;34m.\u001b[0m\u001b[0;34m\u001b[0m\u001b[0;34m\u001b[0m\u001b[0m\n\u001b[0;32m--> 328\u001b[0;31m                     format(target_id, \".\", name), value)\n\u001b[0m\u001b[1;32m    329\u001b[0m             \u001b[0;32melse\u001b[0m\u001b[0;34m:\u001b[0m\u001b[0;34m\u001b[0m\u001b[0;34m\u001b[0m\u001b[0m\n",
            "\u001b[0;31mPy4JJavaError\u001b[0m: An error occurred while calling o973.select.\n: org.apache.spark.sql.AnalysisException: cannot resolve '`dRearning`' given input columns: [Weight, Work Class, SchYr, iMilitary, iSex, iFertil, iLang1, iCitizen, POB, features, iDisabl1, dAge, iWork89, School Enrollment, Income, iEnglish, Spouse Status, iTmpabsnt, Child Numb, dTravTime, iRspouse, Work Absnce, dRpincome, iMeans, Trav Time, Disability Status, Age, Means Transpo, dPwgt1, Numb Lang Spke, iYearsch, iClass, iSchool, Citizen Status, Work 89, Military Status, Eng, dPOB];;\n'Project [dAge#11, iFertil#22, dPwgt1#50, 'dRearning, dRpincome#59, dTravTime#70, iYearsch#76]\n+- Project [Age#606, Citizen Status#254, Disability Status#281, Eng#849, Child Numb#644, Numb Lang Spke#309, Means Transpo#368, Military Status#399, Weight#683, Income#723, Spouse Status#464, Work Class#338, School Enrollment#498, Work Absnce#533, Trav Time#764, Work 89#569, SchYr#806, POB#431, iSex#66, dAge#11, iCitizen#15, iDisabl1#18, iEnglish#20, iFertil#22, ... 14 more fields]\n   +- Project [Age#606, Citizen Status#254, Disability Status#281, Eng#849, Child Numb#644, Numb Lang Spke#309, Means Transpo#368, Military Status#399, Weight#683, Income#723, Spouse Status#464, Work Class#338, School Enrollment#498, Work Absnce#533, Trav Time#764, Work 89#569, SchYr#806, POB#431, iSex#66, dAge#11, iCitizen#15, iDisabl1#18, iEnglish#20, iFertil#22, ... 13 more fields]\n      +- Project [dAge#11, iCitizen#15, iDisabl1#18, iEnglish#20, iFertil#22, iLang1#37, iMeans#41, iMilitary#42, iOthrserv#46, dPwgt1#50, dPOB#48, iClass#16, dRpincome#59, iRspouse#62, iSchool#64, iSex#66, iTmpabsnt#69, dTravTime#70, iWork89#73, iYearsch#76, Citizen Status#254, Disability Status#281, Numb Lang Spke#309, Work Class#338, ... 14 more fields]\n         +- Project [dAge#11, iCitizen#15, iDisabl1#18, iEnglish#20, iFertil#22, iLang1#37, iMeans#41, iMilitary#42, iOthrserv#46, dPwgt1#50, dPOB#48, iClass#16, dRpincome#59, iRspouse#62, iSchool#64, iSex#66, iTmpabsnt#69, dTravTime#70, iWork89#73, iYearsch#76, Citizen Status#254, Disability Status#281, Numb Lang Spke#309, Work Class#338, ... 13 more fields]\n            +- Project [dAge#11, iCitizen#15, iDisabl1#18, iEnglish#20, iFertil#22, iLang1#37, iMeans#41, iMilitary#42, iOthrserv#46, dPwgt1#50, dPOB#48, iClass#16, dRpincome#59, iRspouse#62, iSchool#64, iSex#66, iTmpabsnt#69, dTravTime#70, iWork89#73, iYearsch#76, Citizen Status#254, Disability Status#281, Numb Lang Spke#309, Work Class#338, ... 12 more fields]\n               +- Project [dAge#11, iCitizen#15, iDisabl1#18, iEnglish#20, iFertil#22, iLang1#37, iMeans#41, iMilitary#42, iOthrserv#46, dPwgt1#50, dPOB#48, iClass#16, dRpincome#59, iRspouse#62, iSchool#64, iSex#66, iTmpabsnt#69, dTravTime#70, iWork89#73, iYearsch#76, Citizen Status#254, Disability Status#281, Numb Lang Spke#309, Work Class#338, ... 11 more fields]\n                  +- Project [dAge#11, iCitizen#15, iDisabl1#18, iEnglish#20, iFertil#22, iLang1#37, iMeans#41, iMilitary#42, iOthrserv#46, dPwgt1#50, dPOB#48, iClass#16, dRpincome#59, iRspouse#62, iSchool#64, iSex#66, iTmpabsnt#69, dTravTime#70, iWork89#73, iYearsch#76, Citizen Status#254, Disability Status#281, Numb Lang Spke#309, Work Class#338, ... 10 more fields]\n                     +- Project [dAge#11, iCitizen#15, iDisabl1#18, iEnglish#20, iFertil#22, iLang1#37, iMeans#41, iMilitary#42, iOthrserv#46, dPwgt1#50, dPOB#48, iClass#16, dRpincome#59, iRspouse#62, iSchool#64, iSex#66, iTmpabsnt#69, dTravTime#70, iWork89#73, iYearsch#76, Citizen Status#254, Disability Status#281, Numb Lang Spke#309, Work Class#338, ... 9 more fields]\n                        +- Project [dAge#11, iCitizen#15, iDisabl1#18, iEnglish#20, iFertil#22, iLang1#37, iMeans#41, iMilitary#42, iOthrserv#46, dPwgt1#50, dPOB#48, iClass#16, dRpincome#59, iRspouse#62, iSchool#64, iSex#66, iTmpabsnt#69, dTravTime#70, iWork89#73, iYearsch#76, Citizen Status#254, Disability Status#281, Numb Lang Spke#309, Work Class#338, ... 8 more fields]\n                           +- Project [dAge#11, iCitizen#15, iDisabl1#18, iEnglish#20, iFertil#22, iLang1#37, iMeans#41, iMilitary#42, iOthrserv#46, dPwgt1#50, dPOB#48, iClass#16, dRpincome#59, iRspouse#62, iSchool#64, iSex#66, iTmpabsnt#69, dTravTime#70, iWork89#73, iYearsch#76, Citizen Status#254, Disability Status#281, Numb Lang Spke#309, Work Class#338, ... 7 more fields]\n                              +- Project [dAge#11, iCitizen#15, iDisabl1#18, iEnglish#20, iFertil#22, iLang1#37, iMeans#41, iMilitary#42, iOthrserv#46, dPwgt1#50, dPOB#48, iClass#16, dRpincome#59, iRspouse#62, iSchool#64, iSex#66, iTmpabsnt#69, dTravTime#70, iWork89#73, iYearsch#76, Citizen Status#254, Disability Status#281, Numb Lang Spke#309, Work Class#338, ... 6 more fields]\n                                 +- Project [dAge#11, iCitizen#15, iDisabl1#18, iEnglish#20, iFertil#22, iLang1#37, iMeans#41, iMilitary#42, iOthrserv#46, dPwgt1#50, dPOB#48, iClass#16, dRpincome#59, iRspouse#62, iSchool#64, iSex#66, iTmpabsnt#69, dTravTime#70, iWork89#73, iYearsch#76, Citizen Status#254, Disability Status#281, Numb Lang Spke#309, Work Class#338, ... 5 more fields]\n                                    +- Project [dAge#11, iCitizen#15, iDisabl1#18, iEnglish#20, iFertil#22, iLang1#37, iMeans#41, iMilitary#42, iOthrserv#46, dPwgt1#50, dPOB#48, iClass#16, dRpincome#59, iRspouse#62, iSchool#64, iSex#66, iTmpabsnt#69, dTravTime#70, iWork89#73, iYearsch#76, Citizen Status#254, Disability Status#281, Numb Lang Spke#309, Work Class#338, ... 4 more fields]\n                                       +- Project [dAge#11, iCitizen#15, iDisabl1#18, iEnglish#20, iFertil#22, iLang1#37, iMeans#41, iMilitary#42, iOthrserv#46, dPwgt1#50, dPOB#48, iClass#16, dRpincome#59, iRspouse#62, iSchool#64, iSex#66, iTmpabsnt#69, dTravTime#70, iWork89#73, iYearsch#76, Citizen Status#254, Disability Status#281, Numb Lang Spke#309, Work Class#338, ... 3 more fields]\n                                          +- Project [dAge#11, iCitizen#15, iDisabl1#18, iEnglish#20, iFertil#22, iLang1#37, iMeans#41, iMilitary#42, iOthrserv#46, dPwgt1#50, dPOB#48, iClass#16, dRpincome#59, iRspouse#62, iSchool#64, iSex#66, iTmpabsnt#69, dTravTime#70, iWork89#73, iYearsch#76, Citizen Status#254, Disability Status#281, Numb Lang Spke#309, Work Class#338, ... 2 more fields]\n                                             +- Project [dAge#11, iCitizen#15, iDisabl1#18, iEnglish#20, iFertil#22, iLang1#37, iMeans#41, iMilitary#42, iOthrserv#46, dPwgt1#50, dPOB#48, iClass#16, dRpincome#59, iRspouse#62, iSchool#64, iSex#66, iTmpabsnt#69, dTravTime#70, iWork89#73, iYearsch#76, Citizen Status#254, Disability Status#281, Numb Lang Spke#309, Work Class#338, if ((isnull(cast(iMeans#41 as double)) || isnull(0))) null else UDF(cast(iMeans#41 as double), 0) AS Means Transpo#368]\n                                                +- Project [dAge#11, iCitizen#15, iDisabl1#18, iEnglish#20, iFertil#22, iLang1#37, iMeans#41, iMilitary#42, iOthrserv#46, dPwgt1#50, dPOB#48, iClass#16, dRpincome#59, iRspouse#62, iSchool#64, iSex#66, iTmpabsnt#69, dTravTime#70, iWork89#73, iYearsch#76, Citizen Status#254, Disability Status#281, Numb Lang Spke#309, if ((isnull(cast(iClass#16 as double)) || isnull(0))) null else UDF(cast(iClass#16 as double), 0) AS Work Class#338]\n                                                   +- Project [dAge#11, iCitizen#15, iDisabl1#18, iEnglish#20, iFertil#22, iLang1#37, iMeans#41, iMilitary#42, iOthrserv#46, dPwgt1#50, dPOB#48, iClass#16, dRpincome#59, iRspouse#62, iSchool#64, iSex#66, iTmpabsnt#69, dTravTime#70, iWork89#73, iYearsch#76, Citizen Status#254, Disability Status#281, if ((isnull(cast(iLang1#37 as double)) || isnull(0))) null else UDF(cast(iLang1#37 as double), 0) AS Numb Lang Spke#309]\n                                                      +- Project [dAge#11, iCitizen#15, iDisabl1#18, iEnglish#20, iFertil#22, iLang1#37, iMeans#41, iMilitary#42, iOthrserv#46, dPwgt1#50, dPOB#48, iClass#16, dRpincome#59, iRspouse#62, iSchool#64, iSex#66, iTmpabsnt#69, dTravTime#70, iWork89#73, iYearsch#76, Citizen Status#254, if ((isnull(cast(iDisabl1#18 as double)) || isnull(0))) null else UDF(cast(iDisabl1#18 as double), 0) AS Disability Status#281]\n                                                         +- Project [dAge#11, iCitizen#15, iDisabl1#18, iEnglish#20, iFertil#22, iLang1#37, iMeans#41, iMilitary#42, iOthrserv#46, dPwgt1#50, dPOB#48, iClass#16, dRpincome#59, iRspouse#62, iSchool#64, iSex#66, iTmpabsnt#69, dTravTime#70, iWork89#73, iYearsch#76, if ((isnull(cast(iCitizen#15 as double)) || isnull(0))) null else UDF(cast(iCitizen#15 as double), 0) AS Citizen Status#254]\n                                                            +- Project [dAge#11, iCitizen#15, iDisabl1#18, iEnglish#20, iFertil#22, iLang1#37, iMeans#41, iMilitary#42, iOthrserv#46, dPwgt1#50, dPOB#48, iClass#16, dRpincome#59, iRspouse#62, iSchool#64, iSex#66, iTmpabsnt#69, dTravTime#70, iWork89#73, iYearsch#76]\n                                                               +- Relation[caseid#10,dAge#11,dAncstry1#12,dAncstry2#13,iAvail#14,iCitizen#15,iClass#16,dDepart#17,iDisabl1#18,iDisabl2#19,iEnglish#20,iFeb55#21,iFertil#22,dHispanic#23,dHour89#24,dHours#25,iImmigr#26,dIncome1#27,dIncome2#28,dIncome3#29,dIncome4#30,dIncome5#31,dIncome6#32,dIncome7#33,... 45 more fields] csv\n\n\tat org.apache.spark.sql.catalyst.analysis.package$AnalysisErrorAt.failAnalysis(package.scala:42)\n\tat org.apache.spark.sql.catalyst.analysis.CheckAnalysis$$anonfun$checkAnalysis$1$$anonfun$apply$3.applyOrElse(CheckAnalysis.scala:111)\n\tat org.apache.spark.sql.catalyst.analysis.CheckAnalysis$$anonfun$checkAnalysis$1$$anonfun$apply$3.applyOrElse(CheckAnalysis.scala:108)\n\tat org.apache.spark.sql.catalyst.trees.TreeNode$$anonfun$transformUp$1.apply(TreeNode.scala:280)\n\tat org.apache.spark.sql.catalyst.trees.TreeNode$$anonfun$transformUp$1.apply(TreeNode.scala:280)\n\tat org.apache.spark.sql.catalyst.trees.CurrentOrigin$.withOrigin(TreeNode.scala:69)\n\tat org.apache.spark.sql.catalyst.trees.TreeNode.transformUp(TreeNode.scala:279)\n\tat org.apache.spark.sql.catalyst.plans.QueryPlan$$anonfun$transformExpressionsUp$1.apply(QueryPlan.scala:93)\n\tat org.apache.spark.sql.catalyst.plans.QueryPlan$$anonfun$transformExpressionsUp$1.apply(QueryPlan.scala:93)\n\tat org.apache.spark.sql.catalyst.plans.QueryPlan$$anonfun$1.apply(QueryPlan.scala:105)\n\tat org.apache.spark.sql.catalyst.plans.QueryPlan$$anonfun$1.apply(QueryPlan.scala:105)\n\tat org.apache.spark.sql.catalyst.trees.CurrentOrigin$.withOrigin(TreeNode.scala:69)\n\tat org.apache.spark.sql.catalyst.plans.QueryPlan.transformExpression$1(QueryPlan.scala:104)\n\tat org.apache.spark.sql.catalyst.plans.QueryPlan.org$apache$spark$sql$catalyst$plans$QueryPlan$$recursiveTransform$1(QueryPlan.scala:116)\n\tat org.apache.spark.sql.catalyst.plans.QueryPlan$$anonfun$org$apache$spark$sql$catalyst$plans$QueryPlan$$recursiveTransform$1$2.apply(QueryPlan.scala:121)\n\tat scala.collection.TraversableLike$$anonfun$map$1.apply(TraversableLike.scala:234)\n\tat scala.collection.TraversableLike$$anonfun$map$1.apply(TraversableLike.scala:234)\n\tat scala.collection.mutable.ResizableArray$class.foreach(ResizableArray.scala:59)\n\tat scala.collection.mutable.ArrayBuffer.foreach(ArrayBuffer.scala:48)\n\tat scala.collection.TraversableLike$class.map(TraversableLike.scala:234)\n\tat scala.collection.AbstractTraversable.map(Traversable.scala:104)\n\tat org.apache.spark.sql.catalyst.plans.QueryPlan.org$apache$spark$sql$catalyst$plans$QueryPlan$$recursiveTransform$1(QueryPlan.scala:121)\n\tat org.apache.spark.sql.catalyst.plans.QueryPlan$$anonfun$2.apply(QueryPlan.scala:126)\n\tat org.apache.spark.sql.catalyst.trees.TreeNode.mapProductIterator(TreeNode.scala:186)\n\tat org.apache.spark.sql.catalyst.plans.QueryPlan.mapExpressions(QueryPlan.scala:126)\n\tat org.apache.spark.sql.catalyst.plans.QueryPlan.transformExpressionsUp(QueryPlan.scala:93)\n\tat org.apache.spark.sql.catalyst.analysis.CheckAnalysis$$anonfun$checkAnalysis$1.apply(CheckAnalysis.scala:108)\n\tat org.apache.spark.sql.catalyst.analysis.CheckAnalysis$$anonfun$checkAnalysis$1.apply(CheckAnalysis.scala:86)\n\tat org.apache.spark.sql.catalyst.trees.TreeNode.foreachUp(TreeNode.scala:126)\n\tat org.apache.spark.sql.catalyst.analysis.CheckAnalysis$class.checkAnalysis(CheckAnalysis.scala:86)\n\tat org.apache.spark.sql.catalyst.analysis.Analyzer.checkAnalysis(Analyzer.scala:95)\n\tat org.apache.spark.sql.catalyst.analysis.Analyzer$$anonfun$executeAndCheck$1.apply(Analyzer.scala:108)\n\tat org.apache.spark.sql.catalyst.analysis.Analyzer$$anonfun$executeAndCheck$1.apply(Analyzer.scala:105)\n\tat org.apache.spark.sql.catalyst.plans.logical.AnalysisHelper$.markInAnalyzer(AnalysisHelper.scala:201)\n\tat org.apache.spark.sql.catalyst.analysis.Analyzer.executeAndCheck(Analyzer.scala:105)\n\tat org.apache.spark.sql.execution.QueryExecution.analyzed$lzycompute(QueryExecution.scala:58)\n\tat org.apache.spark.sql.execution.QueryExecution.analyzed(QueryExecution.scala:56)\n\tat org.apache.spark.sql.execution.QueryExecution.assertAnalyzed(QueryExecution.scala:48)\n\tat org.apache.spark.sql.Dataset$.ofRows(Dataset.scala:78)\n\tat org.apache.spark.sql.Dataset.org$apache$spark$sql$Dataset$$withPlan(Dataset.scala:3412)\n\tat org.apache.spark.sql.Dataset.select(Dataset.scala:1340)\n\tat sun.reflect.NativeMethodAccessorImpl.invoke0(Native Method)\n\tat sun.reflect.NativeMethodAccessorImpl.invoke(NativeMethodAccessorImpl.java:62)\n\tat sun.reflect.DelegatingMethodAccessorImpl.invoke(DelegatingMethodAccessorImpl.java:43)\n\tat java.lang.reflect.Method.invoke(Method.java:498)\n\tat py4j.reflection.MethodInvoker.invoke(MethodInvoker.java:244)\n\tat py4j.reflection.ReflectionEngine.invoke(ReflectionEngine.java:357)\n\tat py4j.Gateway.invoke(Gateway.java:282)\n\tat py4j.commands.AbstractCommand.invokeMethod(AbstractCommand.java:132)\n\tat py4j.commands.CallCommand.execute(CallCommand.java:79)\n\tat py4j.GatewayConnection.run(GatewayConnection.java:238)\n\tat java.lang.Thread.run(Thread.java:748)\n",
            "\nDuring handling of the above exception, another exception occurred:\n",
            "\u001b[0;31mAnalysisException\u001b[0m                         Traceback (most recent call last)",
            "\u001b[0;32m<ipython-input-74-1c8034ca5d66>\u001b[0m in \u001b[0;36m<module>\u001b[0;34m()\u001b[0m\n\u001b[0;32m----> 1\u001b[0;31m \u001b[0mdf_quant\u001b[0m \u001b[0;34m=\u001b[0m \u001b[0mdf1\u001b[0m\u001b[0;34m.\u001b[0m\u001b[0mselect\u001b[0m\u001b[0;34m(\u001b[0m\u001b[0;34m'dAge'\u001b[0m\u001b[0;34m,\u001b[0m \u001b[0;34m'iFertil'\u001b[0m\u001b[0;34m,\u001b[0m \u001b[0;34m'dPwgt1'\u001b[0m\u001b[0;34m,\u001b[0m \u001b[0;34m'dRearning'\u001b[0m\u001b[0;34m,\u001b[0m \u001b[0;34m'dRpincome'\u001b[0m\u001b[0;34m,\u001b[0m \u001b[0;34m'dTravTime'\u001b[0m\u001b[0;34m,\u001b[0m \u001b[0;34m'iYearsch'\u001b[0m\u001b[0;34m)\u001b[0m\u001b[0;34m\u001b[0m\u001b[0;34m\u001b[0m\u001b[0m\n\u001b[0m\u001b[1;32m      2\u001b[0m \u001b[0;34m\u001b[0m\u001b[0m\n\u001b[1;32m      3\u001b[0m \u001b[0mdfquant2\u001b[0m \u001b[0;34m=\u001b[0m \u001b[0mdf_quant\u001b[0m\u001b[0;34m.\u001b[0m\u001b[0mwithColumnRenamed\u001b[0m\u001b[0;34m(\u001b[0m\u001b[0;34m\"dAge\"\u001b[0m\u001b[0;34m,\u001b[0m\u001b[0;34m\"Age\"\u001b[0m\u001b[0;34m)\u001b[0m     \u001b[0;34m.\u001b[0m\u001b[0mwithColumnRenamed\u001b[0m\u001b[0;34m(\u001b[0m\u001b[0;34m\"iFertil\"\u001b[0m\u001b[0;34m,\u001b[0m\u001b[0;34m\"Numb Children\"\u001b[0m\u001b[0;34m)\u001b[0m     \u001b[0;34m.\u001b[0m\u001b[0mwithColumnRenamed\u001b[0m\u001b[0;34m(\u001b[0m\u001b[0;34m\"dPwgt1\"\u001b[0m\u001b[0;34m,\u001b[0m\u001b[0;34m\"Weight\"\u001b[0m\u001b[0;34m)\u001b[0m     \u001b[0;34m.\u001b[0m\u001b[0mwithColumnRenamed\u001b[0m\u001b[0;34m(\u001b[0m\u001b[0;34m\"dRpincome\"\u001b[0m\u001b[0;34m,\u001b[0m\u001b[0;34m\"Personal Income\"\u001b[0m\u001b[0;34m)\u001b[0m     \u001b[0;34m.\u001b[0m\u001b[0mwithColumnRenamed\u001b[0m\u001b[0;34m(\u001b[0m\u001b[0;34m\"iYearsch\"\u001b[0m\u001b[0;34m,\u001b[0m\u001b[0;34m\"Year in School\"\u001b[0m\u001b[0;34m)\u001b[0m\u001b[0;34m\u001b[0m\u001b[0;34m\u001b[0m\u001b[0m\n\u001b[1;32m      4\u001b[0m \u001b[0;34m\u001b[0m\u001b[0m\n\u001b[1;32m      5\u001b[0m \u001b[0mdfquant2\u001b[0m\u001b[0;34m.\u001b[0m\u001b[0msummary\u001b[0m\u001b[0;34m(\u001b[0m\u001b[0;34m)\u001b[0m\u001b[0;34m.\u001b[0m\u001b[0mshow\u001b[0m\u001b[0;34m(\u001b[0m\u001b[0;34m)\u001b[0m\u001b[0;34m\u001b[0m\u001b[0;34m\u001b[0m\u001b[0m\n",
            "\u001b[0;32m/content/spark-2.4.7-bin-hadoop2.7/python/pyspark/sql/dataframe.py\u001b[0m in \u001b[0;36mselect\u001b[0;34m(self, *cols)\u001b[0m\n\u001b[1;32m   1323\u001b[0m         \u001b[0;34m[\u001b[0m\u001b[0mRow\u001b[0m\u001b[0;34m(\u001b[0m\u001b[0mname\u001b[0m\u001b[0;34m=\u001b[0m\u001b[0;34mu'Alice'\u001b[0m\u001b[0;34m,\u001b[0m \u001b[0mage\u001b[0m\u001b[0;34m=\u001b[0m\u001b[0;36m12\u001b[0m\u001b[0;34m)\u001b[0m\u001b[0;34m,\u001b[0m \u001b[0mRow\u001b[0m\u001b[0;34m(\u001b[0m\u001b[0mname\u001b[0m\u001b[0;34m=\u001b[0m\u001b[0;34mu'Bob'\u001b[0m\u001b[0;34m,\u001b[0m \u001b[0mage\u001b[0m\u001b[0;34m=\u001b[0m\u001b[0;36m15\u001b[0m\u001b[0;34m)\u001b[0m\u001b[0;34m]\u001b[0m\u001b[0;34m\u001b[0m\u001b[0;34m\u001b[0m\u001b[0m\n\u001b[1;32m   1324\u001b[0m         \"\"\"\n\u001b[0;32m-> 1325\u001b[0;31m         \u001b[0mjdf\u001b[0m \u001b[0;34m=\u001b[0m \u001b[0mself\u001b[0m\u001b[0;34m.\u001b[0m\u001b[0m_jdf\u001b[0m\u001b[0;34m.\u001b[0m\u001b[0mselect\u001b[0m\u001b[0;34m(\u001b[0m\u001b[0mself\u001b[0m\u001b[0;34m.\u001b[0m\u001b[0m_jcols\u001b[0m\u001b[0;34m(\u001b[0m\u001b[0;34m*\u001b[0m\u001b[0mcols\u001b[0m\u001b[0;34m)\u001b[0m\u001b[0;34m)\u001b[0m\u001b[0;34m\u001b[0m\u001b[0;34m\u001b[0m\u001b[0m\n\u001b[0m\u001b[1;32m   1326\u001b[0m         \u001b[0;32mreturn\u001b[0m \u001b[0mDataFrame\u001b[0m\u001b[0;34m(\u001b[0m\u001b[0mjdf\u001b[0m\u001b[0;34m,\u001b[0m \u001b[0mself\u001b[0m\u001b[0;34m.\u001b[0m\u001b[0msql_ctx\u001b[0m\u001b[0;34m)\u001b[0m\u001b[0;34m\u001b[0m\u001b[0;34m\u001b[0m\u001b[0m\n\u001b[1;32m   1327\u001b[0m \u001b[0;34m\u001b[0m\u001b[0m\n",
            "\u001b[0;32m/content/spark-2.4.7-bin-hadoop2.7/python/lib/py4j-0.10.7-src.zip/py4j/java_gateway.py\u001b[0m in \u001b[0;36m__call__\u001b[0;34m(self, *args)\u001b[0m\n\u001b[1;32m   1255\u001b[0m         \u001b[0manswer\u001b[0m \u001b[0;34m=\u001b[0m \u001b[0mself\u001b[0m\u001b[0;34m.\u001b[0m\u001b[0mgateway_client\u001b[0m\u001b[0;34m.\u001b[0m\u001b[0msend_command\u001b[0m\u001b[0;34m(\u001b[0m\u001b[0mcommand\u001b[0m\u001b[0;34m)\u001b[0m\u001b[0;34m\u001b[0m\u001b[0;34m\u001b[0m\u001b[0m\n\u001b[1;32m   1256\u001b[0m         return_value = get_return_value(\n\u001b[0;32m-> 1257\u001b[0;31m             answer, self.gateway_client, self.target_id, self.name)\n\u001b[0m\u001b[1;32m   1258\u001b[0m \u001b[0;34m\u001b[0m\u001b[0m\n\u001b[1;32m   1259\u001b[0m         \u001b[0;32mfor\u001b[0m \u001b[0mtemp_arg\u001b[0m \u001b[0;32min\u001b[0m \u001b[0mtemp_args\u001b[0m\u001b[0;34m:\u001b[0m\u001b[0;34m\u001b[0m\u001b[0;34m\u001b[0m\u001b[0m\n",
            "\u001b[0;32m/content/spark-2.4.7-bin-hadoop2.7/python/pyspark/sql/utils.py\u001b[0m in \u001b[0;36mdeco\u001b[0;34m(*a, **kw)\u001b[0m\n\u001b[1;32m     67\u001b[0m                                              e.java_exception.getStackTrace()))\n\u001b[1;32m     68\u001b[0m             \u001b[0;32mif\u001b[0m \u001b[0ms\u001b[0m\u001b[0;34m.\u001b[0m\u001b[0mstartswith\u001b[0m\u001b[0;34m(\u001b[0m\u001b[0;34m'org.apache.spark.sql.AnalysisException: '\u001b[0m\u001b[0;34m)\u001b[0m\u001b[0;34m:\u001b[0m\u001b[0;34m\u001b[0m\u001b[0;34m\u001b[0m\u001b[0m\n\u001b[0;32m---> 69\u001b[0;31m                 \u001b[0;32mraise\u001b[0m \u001b[0mAnalysisException\u001b[0m\u001b[0;34m(\u001b[0m\u001b[0ms\u001b[0m\u001b[0;34m.\u001b[0m\u001b[0msplit\u001b[0m\u001b[0;34m(\u001b[0m\u001b[0;34m': '\u001b[0m\u001b[0;34m,\u001b[0m \u001b[0;36m1\u001b[0m\u001b[0;34m)\u001b[0m\u001b[0;34m[\u001b[0m\u001b[0;36m1\u001b[0m\u001b[0;34m]\u001b[0m\u001b[0;34m,\u001b[0m \u001b[0mstackTrace\u001b[0m\u001b[0;34m)\u001b[0m\u001b[0;34m\u001b[0m\u001b[0;34m\u001b[0m\u001b[0m\n\u001b[0m\u001b[1;32m     70\u001b[0m             \u001b[0;32mif\u001b[0m \u001b[0ms\u001b[0m\u001b[0;34m.\u001b[0m\u001b[0mstartswith\u001b[0m\u001b[0;34m(\u001b[0m\u001b[0;34m'org.apache.spark.sql.catalyst.analysis'\u001b[0m\u001b[0;34m)\u001b[0m\u001b[0;34m:\u001b[0m\u001b[0;34m\u001b[0m\u001b[0;34m\u001b[0m\u001b[0m\n\u001b[1;32m     71\u001b[0m                 \u001b[0;32mraise\u001b[0m \u001b[0mAnalysisException\u001b[0m\u001b[0;34m(\u001b[0m\u001b[0ms\u001b[0m\u001b[0;34m.\u001b[0m\u001b[0msplit\u001b[0m\u001b[0;34m(\u001b[0m\u001b[0;34m': '\u001b[0m\u001b[0;34m,\u001b[0m \u001b[0;36m1\u001b[0m\u001b[0;34m)\u001b[0m\u001b[0;34m[\u001b[0m\u001b[0;36m1\u001b[0m\u001b[0;34m]\u001b[0m\u001b[0;34m,\u001b[0m \u001b[0mstackTrace\u001b[0m\u001b[0;34m)\u001b[0m\u001b[0;34m\u001b[0m\u001b[0;34m\u001b[0m\u001b[0m\n",
            "\u001b[0;31mAnalysisException\u001b[0m: \"cannot resolve '`dRearning`' given input columns: [Weight, Work Class, SchYr, iMilitary, iSex, iFertil, iLang1, iCitizen, POB, features, iDisabl1, dAge, iWork89, School Enrollment, Income, iEnglish, Spouse Status, iTmpabsnt, Child Numb, dTravTime, iRspouse, Work Absnce, dRpincome, iMeans, Trav Time, Disability Status, Age, Means Transpo, dPwgt1, Numb Lang Spke, iYearsch, iClass, iSchool, Citizen Status, Work 89, Military Status, Eng, dPOB];;\\n'Project [dAge#11, iFertil#22, dPwgt1#50, 'dRearning, dRpincome#59, dTravTime#70, iYearsch#76]\\n+- Project [Age#606, Citizen Status#254, Disability Status#281, Eng#849, Child Numb#644, Numb Lang Spke#309, Means Transpo#368, Military Status#399, Weight#683, Income#723, Spouse Status#464, Work Class#338, School Enrollment#498, Work Absnce#533, Trav Time#764, Work 89#569, SchYr#806, POB#431, iSex#66, dAge#11, iCitizen#15, iDisabl1#18, iEnglish#20, iFertil#22, ... 14 more fields]\\n   +- Project [Age#606, Citizen Status#254, Disability Status#281, Eng#849, Child Numb#644, Numb Lang Spke#309, Means Transpo#368, Military Status#399, Weight#683, Income#723, Spouse Status#464, Work Class#338, School Enrollment#498, Work Absnce#533, Trav Time#764, Work 89#569, SchYr#806, POB#431, iSex#66, dAge#11, iCitizen#15, iDisabl1#18, iEnglish#20, iFertil#22, ... 13 more fields]\\n      +- Project [dAge#11, iCitizen#15, iDisabl1#18, iEnglish#20, iFertil#22, iLang1#37, iMeans#41, iMilitary#42, iOthrserv#46, dPwgt1#50, dPOB#48, ..."
          ]
        }
      ]
    },
    {
      "cell_type": "code",
      "metadata": {
        "id": "Ip8-Drj6Cbcs",
        "colab": {
          "base_uri": "https://localhost:8080/",
          "height": 345
        },
        "outputId": "ace60de4-169f-4112-da79-9bc7d721fe06"
      },
      "source": [
        "#Need a df for visualizations w/o one hot encoding\n",
        "import pandas as pd\n",
        "\n",
        "#Create pandas version\n",
        "df_visp = df_vis.toPandas()"
      ],
      "execution_count": null,
      "outputs": [
        {
          "output_type": "error",
          "ename": "KeyboardInterrupt",
          "evalue": "ignored",
          "traceback": [
            "\u001b[0;31m---------------------------------------------------------------------------\u001b[0m",
            "\u001b[0;31mKeyboardInterrupt\u001b[0m                         Traceback (most recent call last)",
            "\u001b[0;32m<ipython-input-75-a3f1c4265e46>\u001b[0m in \u001b[0;36m<module>\u001b[0;34m()\u001b[0m\n\u001b[1;32m      3\u001b[0m \u001b[0;34m\u001b[0m\u001b[0m\n\u001b[1;32m      4\u001b[0m \u001b[0;31m#Create pandas version\u001b[0m\u001b[0;34m\u001b[0m\u001b[0;34m\u001b[0m\u001b[0;34m\u001b[0m\u001b[0m\n\u001b[0;32m----> 5\u001b[0;31m \u001b[0mdf_visp\u001b[0m \u001b[0;34m=\u001b[0m \u001b[0mdf_vis\u001b[0m\u001b[0;34m.\u001b[0m\u001b[0mtoPandas\u001b[0m\u001b[0;34m(\u001b[0m\u001b[0;34m)\u001b[0m\u001b[0;34m\u001b[0m\u001b[0;34m\u001b[0m\u001b[0m\n\u001b[0m",
            "\u001b[0;32m/content/spark-2.4.7-bin-hadoop2.7/python/pyspark/sql/dataframe.py\u001b[0m in \u001b[0;36mtoPandas\u001b[0;34m(self)\u001b[0m\n\u001b[1;32m   2153\u001b[0m \u001b[0;34m\u001b[0m\u001b[0m\n\u001b[1;32m   2154\u001b[0m         \u001b[0;31m# Below is toPandas without Arrow optimization.\u001b[0m\u001b[0;34m\u001b[0m\u001b[0;34m\u001b[0m\u001b[0;34m\u001b[0m\u001b[0m\n\u001b[0;32m-> 2155\u001b[0;31m         \u001b[0mpdf\u001b[0m \u001b[0;34m=\u001b[0m \u001b[0mpd\u001b[0m\u001b[0;34m.\u001b[0m\u001b[0mDataFrame\u001b[0m\u001b[0;34m.\u001b[0m\u001b[0mfrom_records\u001b[0m\u001b[0;34m(\u001b[0m\u001b[0mself\u001b[0m\u001b[0;34m.\u001b[0m\u001b[0mcollect\u001b[0m\u001b[0;34m(\u001b[0m\u001b[0;34m)\u001b[0m\u001b[0;34m,\u001b[0m \u001b[0mcolumns\u001b[0m\u001b[0;34m=\u001b[0m\u001b[0mself\u001b[0m\u001b[0;34m.\u001b[0m\u001b[0mcolumns\u001b[0m\u001b[0;34m)\u001b[0m\u001b[0;34m\u001b[0m\u001b[0;34m\u001b[0m\u001b[0m\n\u001b[0m\u001b[1;32m   2156\u001b[0m         \u001b[0mcolumn_counter\u001b[0m \u001b[0;34m=\u001b[0m \u001b[0mCounter\u001b[0m\u001b[0;34m(\u001b[0m\u001b[0mself\u001b[0m\u001b[0;34m.\u001b[0m\u001b[0mcolumns\u001b[0m\u001b[0;34m)\u001b[0m\u001b[0;34m\u001b[0m\u001b[0;34m\u001b[0m\u001b[0m\n\u001b[1;32m   2157\u001b[0m \u001b[0;34m\u001b[0m\u001b[0m\n",
            "\u001b[0;32m/content/spark-2.4.7-bin-hadoop2.7/python/pyspark/sql/dataframe.py\u001b[0m in \u001b[0;36mcollect\u001b[0;34m(self)\u001b[0m\n\u001b[1;32m    533\u001b[0m         \"\"\"\n\u001b[1;32m    534\u001b[0m         \u001b[0;32mwith\u001b[0m \u001b[0mSCCallSiteSync\u001b[0m\u001b[0;34m(\u001b[0m\u001b[0mself\u001b[0m\u001b[0;34m.\u001b[0m\u001b[0m_sc\u001b[0m\u001b[0;34m)\u001b[0m \u001b[0;32mas\u001b[0m \u001b[0mcss\u001b[0m\u001b[0;34m:\u001b[0m\u001b[0;34m\u001b[0m\u001b[0;34m\u001b[0m\u001b[0m\n\u001b[0;32m--> 535\u001b[0;31m             \u001b[0msock_info\u001b[0m \u001b[0;34m=\u001b[0m \u001b[0mself\u001b[0m\u001b[0;34m.\u001b[0m\u001b[0m_jdf\u001b[0m\u001b[0;34m.\u001b[0m\u001b[0mcollectToPython\u001b[0m\u001b[0;34m(\u001b[0m\u001b[0;34m)\u001b[0m\u001b[0;34m\u001b[0m\u001b[0;34m\u001b[0m\u001b[0m\n\u001b[0m\u001b[1;32m    536\u001b[0m         \u001b[0;32mreturn\u001b[0m \u001b[0mlist\u001b[0m\u001b[0;34m(\u001b[0m\u001b[0m_load_from_socket\u001b[0m\u001b[0;34m(\u001b[0m\u001b[0msock_info\u001b[0m\u001b[0;34m,\u001b[0m \u001b[0mBatchedSerializer\u001b[0m\u001b[0;34m(\u001b[0m\u001b[0mPickleSerializer\u001b[0m\u001b[0;34m(\u001b[0m\u001b[0;34m)\u001b[0m\u001b[0;34m)\u001b[0m\u001b[0;34m)\u001b[0m\u001b[0;34m)\u001b[0m\u001b[0;34m\u001b[0m\u001b[0;34m\u001b[0m\u001b[0m\n\u001b[1;32m    537\u001b[0m \u001b[0;34m\u001b[0m\u001b[0m\n",
            "\u001b[0;32m/content/spark-2.4.7-bin-hadoop2.7/python/lib/py4j-0.10.7-src.zip/py4j/java_gateway.py\u001b[0m in \u001b[0;36m__call__\u001b[0;34m(self, *args)\u001b[0m\n\u001b[1;32m   1253\u001b[0m             \u001b[0mproto\u001b[0m\u001b[0;34m.\u001b[0m\u001b[0mEND_COMMAND_PART\u001b[0m\u001b[0;34m\u001b[0m\u001b[0;34m\u001b[0m\u001b[0m\n\u001b[1;32m   1254\u001b[0m \u001b[0;34m\u001b[0m\u001b[0m\n\u001b[0;32m-> 1255\u001b[0;31m         \u001b[0manswer\u001b[0m \u001b[0;34m=\u001b[0m \u001b[0mself\u001b[0m\u001b[0;34m.\u001b[0m\u001b[0mgateway_client\u001b[0m\u001b[0;34m.\u001b[0m\u001b[0msend_command\u001b[0m\u001b[0;34m(\u001b[0m\u001b[0mcommand\u001b[0m\u001b[0;34m)\u001b[0m\u001b[0;34m\u001b[0m\u001b[0;34m\u001b[0m\u001b[0m\n\u001b[0m\u001b[1;32m   1256\u001b[0m         return_value = get_return_value(\n\u001b[1;32m   1257\u001b[0m             answer, self.gateway_client, self.target_id, self.name)\n",
            "\u001b[0;32m/content/spark-2.4.7-bin-hadoop2.7/python/lib/py4j-0.10.7-src.zip/py4j/java_gateway.py\u001b[0m in \u001b[0;36msend_command\u001b[0;34m(self, command, retry, binary)\u001b[0m\n\u001b[1;32m    983\u001b[0m         \u001b[0mconnection\u001b[0m \u001b[0;34m=\u001b[0m \u001b[0mself\u001b[0m\u001b[0;34m.\u001b[0m\u001b[0m_get_connection\u001b[0m\u001b[0;34m(\u001b[0m\u001b[0;34m)\u001b[0m\u001b[0;34m\u001b[0m\u001b[0;34m\u001b[0m\u001b[0m\n\u001b[1;32m    984\u001b[0m         \u001b[0;32mtry\u001b[0m\u001b[0;34m:\u001b[0m\u001b[0;34m\u001b[0m\u001b[0;34m\u001b[0m\u001b[0m\n\u001b[0;32m--> 985\u001b[0;31m             \u001b[0mresponse\u001b[0m \u001b[0;34m=\u001b[0m \u001b[0mconnection\u001b[0m\u001b[0;34m.\u001b[0m\u001b[0msend_command\u001b[0m\u001b[0;34m(\u001b[0m\u001b[0mcommand\u001b[0m\u001b[0;34m)\u001b[0m\u001b[0;34m\u001b[0m\u001b[0;34m\u001b[0m\u001b[0m\n\u001b[0m\u001b[1;32m    986\u001b[0m             \u001b[0;32mif\u001b[0m \u001b[0mbinary\u001b[0m\u001b[0;34m:\u001b[0m\u001b[0;34m\u001b[0m\u001b[0;34m\u001b[0m\u001b[0m\n\u001b[1;32m    987\u001b[0m                 \u001b[0;32mreturn\u001b[0m \u001b[0mresponse\u001b[0m\u001b[0;34m,\u001b[0m \u001b[0mself\u001b[0m\u001b[0;34m.\u001b[0m\u001b[0m_create_connection_guard\u001b[0m\u001b[0;34m(\u001b[0m\u001b[0mconnection\u001b[0m\u001b[0;34m)\u001b[0m\u001b[0;34m\u001b[0m\u001b[0;34m\u001b[0m\u001b[0m\n",
            "\u001b[0;32m/content/spark-2.4.7-bin-hadoop2.7/python/lib/py4j-0.10.7-src.zip/py4j/java_gateway.py\u001b[0m in \u001b[0;36msend_command\u001b[0;34m(self, command)\u001b[0m\n\u001b[1;32m   1150\u001b[0m \u001b[0;34m\u001b[0m\u001b[0m\n\u001b[1;32m   1151\u001b[0m         \u001b[0;32mtry\u001b[0m\u001b[0;34m:\u001b[0m\u001b[0;34m\u001b[0m\u001b[0;34m\u001b[0m\u001b[0m\n\u001b[0;32m-> 1152\u001b[0;31m             \u001b[0manswer\u001b[0m \u001b[0;34m=\u001b[0m \u001b[0msmart_decode\u001b[0m\u001b[0;34m(\u001b[0m\u001b[0mself\u001b[0m\u001b[0;34m.\u001b[0m\u001b[0mstream\u001b[0m\u001b[0;34m.\u001b[0m\u001b[0mreadline\u001b[0m\u001b[0;34m(\u001b[0m\u001b[0;34m)\u001b[0m\u001b[0;34m[\u001b[0m\u001b[0;34m:\u001b[0m\u001b[0;34m-\u001b[0m\u001b[0;36m1\u001b[0m\u001b[0;34m]\u001b[0m\u001b[0;34m)\u001b[0m\u001b[0;34m\u001b[0m\u001b[0;34m\u001b[0m\u001b[0m\n\u001b[0m\u001b[1;32m   1153\u001b[0m             \u001b[0mlogger\u001b[0m\u001b[0;34m.\u001b[0m\u001b[0mdebug\u001b[0m\u001b[0;34m(\u001b[0m\u001b[0;34m\"Answer received: {0}\"\u001b[0m\u001b[0;34m.\u001b[0m\u001b[0mformat\u001b[0m\u001b[0;34m(\u001b[0m\u001b[0manswer\u001b[0m\u001b[0;34m)\u001b[0m\u001b[0;34m)\u001b[0m\u001b[0;34m\u001b[0m\u001b[0;34m\u001b[0m\u001b[0m\n\u001b[1;32m   1154\u001b[0m             \u001b[0;32mif\u001b[0m \u001b[0manswer\u001b[0m\u001b[0;34m.\u001b[0m\u001b[0mstartswith\u001b[0m\u001b[0;34m(\u001b[0m\u001b[0mproto\u001b[0m\u001b[0;34m.\u001b[0m\u001b[0mRETURN_MESSAGE\u001b[0m\u001b[0;34m)\u001b[0m\u001b[0;34m:\u001b[0m\u001b[0;34m\u001b[0m\u001b[0;34m\u001b[0m\u001b[0m\n",
            "\u001b[0;32m/usr/lib/python3.6/socket.py\u001b[0m in \u001b[0;36mreadinto\u001b[0;34m(self, b)\u001b[0m\n\u001b[1;32m    584\u001b[0m         \u001b[0;32mwhile\u001b[0m \u001b[0;32mTrue\u001b[0m\u001b[0;34m:\u001b[0m\u001b[0;34m\u001b[0m\u001b[0;34m\u001b[0m\u001b[0m\n\u001b[1;32m    585\u001b[0m             \u001b[0;32mtry\u001b[0m\u001b[0;34m:\u001b[0m\u001b[0;34m\u001b[0m\u001b[0;34m\u001b[0m\u001b[0m\n\u001b[0;32m--> 586\u001b[0;31m                 \u001b[0;32mreturn\u001b[0m \u001b[0mself\u001b[0m\u001b[0;34m.\u001b[0m\u001b[0m_sock\u001b[0m\u001b[0;34m.\u001b[0m\u001b[0mrecv_into\u001b[0m\u001b[0;34m(\u001b[0m\u001b[0mb\u001b[0m\u001b[0;34m)\u001b[0m\u001b[0;34m\u001b[0m\u001b[0;34m\u001b[0m\u001b[0m\n\u001b[0m\u001b[1;32m    587\u001b[0m             \u001b[0;32mexcept\u001b[0m \u001b[0mtimeout\u001b[0m\u001b[0;34m:\u001b[0m\u001b[0;34m\u001b[0m\u001b[0;34m\u001b[0m\u001b[0m\n\u001b[1;32m    588\u001b[0m                 \u001b[0mself\u001b[0m\u001b[0;34m.\u001b[0m\u001b[0m_timeout_occurred\u001b[0m \u001b[0;34m=\u001b[0m \u001b[0;32mTrue\u001b[0m\u001b[0;34m\u001b[0m\u001b[0;34m\u001b[0m\u001b[0m\n",
            "\u001b[0;31mKeyboardInterrupt\u001b[0m: "
          ]
        }
      ]
    },
    {
      "cell_type": "code",
      "metadata": {
        "id": "i7ZPDEA6Dbgr"
      },
      "source": [
        "df_visp.head()"
      ],
      "execution_count": null,
      "outputs": []
    },
    {
      "cell_type": "code",
      "metadata": {
        "id": "jHydUb-QDuRb"
      },
      "source": [
        "df_visp.hist(column='iWork89', grid = False, xlabelsize = 14, ylabelsize = 14)\n",
        "\n",
        "#import matplotlib.pyplot as plt\n",
        "#import numpy as np\n",
        "\n",
        "#plt.hist(df_visp['iMilitary'], density=True, bins=10)  # `density=False` would make counts\n",
        "#plt.ylabel('Probability')\n",
        "#plt.xlabel('Data');"
      ],
      "execution_count": null,
      "outputs": []
    },
    {
      "cell_type": "markdown",
      "metadata": {
        "id": "Cm6h2jXReIP5"
      },
      "source": [
        "### K Means Clustering and Cluster Amount Selection"
      ]
    },
    {
      "cell_type": "code",
      "metadata": {
        "colab": {
          "base_uri": "https://localhost:8080/"
        },
        "id": "IPJVP-1NeM1m",
        "outputId": "2b01096f-f5ea-41ef-e8df-2cf7918972b8"
      },
      "source": [
        "from pyspark.ml.feature import VectorAssembler\n",
        "assembler = VectorAssembler(inputCols=df1.columns[0:19],outputCol=\"features\")\n",
        "df1 = assembler.transform(df1)\n",
        "df1.show()"
      ],
      "execution_count": null,
      "outputs": [
        {
          "output_type": "stream",
          "text": [
            "+-------------+--------------+-----------------+-------------+--------------+--------------+---------------+---------------+-------------+-------------+-------------+-------------+-----------------+-------------+-------------+-------------+---------------+-------------+----+----+--------+--------+--------+-------+------+------+---------+------+---------+--------+------+-------+---------+----+-------+---------+--------+--------------------+\n",
            "|          Age|Citizen Status|Disability Status|          Eng|    Child Numb|Numb Lang Spke|  Means Transpo|Military Status|       Weight|       Income|Spouse Status|   Work Class|School Enrollment|  Work Absnce|    Trav Time|      Work 89|          SchYr|          POB|iSex|dAge|iCitizen|iDisabl1|iEnglish|iFertil|iLang1|iMeans|iMilitary|dPwgt1|dRpincome|iRspouse|iClass|iSchool|iTmpabsnt|dPOB|iWork89|dTravTime|iYearsch|            features|\n",
            "+-------------+--------------+-----------------+-------------+--------------+--------------+---------------+---------------+-------------+-------------+-------------+-------------+-----------------+-------------+-------------+-------------+---------------+-------------+----+----+--------+--------+--------+-------+------+------+---------+------+---------+--------+------+-------+---------+----+-------+---------+--------+--------------------+\n",
            "|(7,[5],[1.0])| (4,[0],[1.0])|        (2,[],[])|(4,[1],[1.0])|(13,[1],[1.0])| (2,[1],[1.0])| (12,[1],[1.0])|      (4,[],[])|(3,[1],[1.0])|(5,[3],[1.0])|(6,[3],[1.0])|(9,[5],[1.0])|    (3,[1],[1.0])|(3,[0],[1.0])|(6,[5],[1.0])|(2,[1],[1.0])|(17,[11],[1.0])|(6,[0],[1.0])|   1|   5|       0|       2|       1|      1|     1|     1|        4|     1|        3|       3|     5|      1|        0|   0|      1|        5|      11|(109,[5,7,14,18,3...|\n",
            "|(7,[6],[1.0])| (4,[0],[1.0])|        (2,[],[])|(4,[0],[1.0])|(13,[3],[1.0])|     (2,[],[])| (12,[1],[1.0])|      (4,[],[])|(3,[2],[1.0])|(5,[2],[1.0])|(6,[1],[1.0])|(9,[7],[1.0])|    (3,[1],[1.0])|(3,[0],[1.0])|(6,[1],[1.0])|(2,[1],[1.0])| (17,[5],[1.0])|(6,[0],[1.0])|   1|   6|       0|       2|       0|      3|     2|     1|        4|     2|        2|       1|     7|      1|        0|   0|      1|        1|       5|(109,[6,7,13,20,3...|\n",
            "|(7,[3],[1.0])| (4,[0],[1.0])|        (2,[],[])|(4,[0],[1.0])|(13,[1],[1.0])|     (2,[],[])|(12,[10],[1.0])|      (4,[],[])|(3,[1],[1.0])|(5,[2],[1.0])|    (6,[],[])|(9,[7],[1.0])|    (3,[1],[1.0])|(3,[0],[1.0])|(6,[2],[1.0])|(2,[1],[1.0])|(17,[10],[1.0])|(6,[0],[1.0])|   1|   3|       0|       2|       0|      1|     2|    10|        4|     1|        2|       6|     7|      1|        0|   0|      1|        2|      10|(109,[3,7,13,18,4...|\n",
            "|(7,[4],[1.0])| (4,[0],[1.0])|        (2,[],[])|(4,[0],[1.0])|(13,[3],[1.0])|     (2,[],[])| (12,[1],[1.0])|      (4,[],[])|(3,[1],[1.0])|(5,[2],[1.0])|(6,[4],[1.0])|(9,[1],[1.0])|    (3,[1],[1.0])|(3,[0],[1.0])|(6,[1],[1.0])|(2,[1],[1.0])|(17,[10],[1.0])|(6,[0],[1.0])|   1|   4|       0|       2|       0|      3|     2|     1|        4|     1|        2|       4|     1|      1|        0|   0|      1|        1|      10|(109,[4,7,13,20,3...|\n",
            "|    (7,[],[])| (4,[0],[1.0])|        (2,[],[])|(4,[0],[1.0])|(13,[3],[1.0])|     (2,[],[])| (12,[0],[1.0])|      (4,[],[])|(3,[1],[1.0])|(5,[2],[1.0])|(6,[1],[1.0])|(9,[0],[1.0])|    (3,[1],[1.0])|    (3,[],[])|(6,[0],[1.0])|    (2,[],[])| (17,[5],[1.0])|(6,[0],[1.0])|   1|   7|       0|       2|       0|      3|     2|     0|        4|     1|        2|       1|     0|      1|        3|   0|      2|        0|       5|(109,[7,13,20,32,...|\n",
            "|(7,[1],[1.0])| (4,[0],[1.0])|    (2,[0],[1.0])|(4,[0],[1.0])|(13,[0],[1.0])|     (2,[],[])| (12,[0],[1.0])|  (4,[0],[1.0])|(3,[0],[1.0])|(5,[0],[1.0])|(6,[0],[1.0])|(9,[0],[1.0])|    (3,[2],[1.0])|(3,[0],[1.0])|(6,[0],[1.0])|(2,[0],[1.0])| (17,[4],[1.0])|(6,[0],[1.0])|   1|   1|       0|       0|       0|      0|     2|     0|        0|     0|        0|       0|     0|      2|        0|   0|      0|        0|       4|(109,[1,7,11,13,1...|\n",
            "|(7,[1],[1.0])| (4,[0],[1.0])|    (2,[0],[1.0])|(4,[0],[1.0])|(13,[0],[1.0])|     (2,[],[])| (12,[0],[1.0])|  (4,[0],[1.0])|(3,[1],[1.0])|(5,[0],[1.0])|(6,[0],[1.0])|(9,[0],[1.0])|    (3,[2],[1.0])|(3,[0],[1.0])|(6,[0],[1.0])|(2,[0],[1.0])| (17,[4],[1.0])|(6,[0],[1.0])|   0|   1|       0|       0|       0|      0|     2|     0|        0|     1|        0|       0|     0|      2|        0|   0|      0|        0|       4|(109,[1,7,11,13,1...|\n",
            "|(7,[4],[1.0])| (4,[0],[1.0])|        (2,[],[])|(4,[0],[1.0])|(13,[4],[1.0])|     (2,[],[])|(12,[11],[1.0])|      (4,[],[])|(3,[1],[1.0])|(5,[3],[1.0])|(6,[1],[1.0])|(9,[6],[1.0])|    (3,[1],[1.0])|(3,[0],[1.0])|(6,[0],[1.0])|(2,[1],[1.0])|(17,[11],[1.0])|(6,[0],[1.0])|   1|   4|       0|       2|       0|      4|     2|    11|        4|     1|        3|       1|     6|      1|        0|   0|      1|        0|      11|(109,[4,7,13,21,4...|\n",
            "|(7,[6],[1.0])| (4,[0],[1.0])|        (2,[],[])|(4,[0],[1.0])|(13,[7],[1.0])|     (2,[],[])| (12,[0],[1.0])|      (4,[],[])|(3,[1],[1.0])|(5,[2],[1.0])|(6,[1],[1.0])|(9,[1],[1.0])|    (3,[1],[1.0])|    (3,[],[])|(6,[0],[1.0])|(2,[1],[1.0])|(17,[10],[1.0])|(6,[0],[1.0])|   1|   6|       0|       2|       0|      7|     2|     0|        4|     1|        2|       1|     1|      1|        3|   0|      1|        0|      10|(109,[6,7,13,24,3...|\n",
            "|(7,[3],[1.0])| (4,[0],[1.0])|        (2,[],[])|(4,[0],[1.0])|(13,[0],[1.0])|     (2,[],[])| (12,[0],[1.0])|  (4,[2],[1.0])|(3,[1],[1.0])|(5,[2],[1.0])|    (6,[],[])|(9,[1],[1.0])|    (3,[1],[1.0])|(3,[1],[1.0])|(6,[0],[1.0])|(2,[1],[1.0])| (17,[8],[1.0])|(6,[0],[1.0])|   0|   3|       0|       2|       0|      0|     2|     0|        2|     1|        2|       6|     1|      1|        1|   0|      1|        0|       8|(109,[3,7,13,17,3...|\n",
            "|(7,[5],[1.0])| (4,[0],[1.0])|        (2,[],[])|(4,[0],[1.0])|(13,[0],[1.0])|     (2,[],[])| (12,[1],[1.0])|      (4,[],[])|(3,[1],[1.0])|(5,[4],[1.0])|(6,[1],[1.0])|(9,[1],[1.0])|    (3,[1],[1.0])|(3,[0],[1.0])|(6,[4],[1.0])|(2,[1],[1.0])|(17,[11],[1.0])|(6,[0],[1.0])|   0|   5|       0|       2|       0|      0|     2|     1|        4|     1|        4|       1|     1|      1|        0|   0|      1|        4|      11|(109,[5,7,13,17,3...|\n",
            "|(7,[4],[1.0])| (4,[0],[1.0])|        (2,[],[])|(4,[0],[1.0])|(13,[3],[1.0])|     (2,[],[])| (12,[1],[1.0])|      (4,[],[])|(3,[1],[1.0])|(5,[2],[1.0])|(6,[1],[1.0])|(9,[1],[1.0])|    (3,[1],[1.0])|(3,[0],[1.0])|(6,[2],[1.0])|(2,[1],[1.0])|(17,[10],[1.0])|(6,[0],[1.0])|   1|   4|       0|       2|       0|      3|     2|     1|        4|     1|        2|       1|     1|      1|        0|   0|      1|        2|      10|(109,[4,7,13,20,3...|\n",
            "|(7,[1],[1.0])| (4,[0],[1.0])|    (2,[0],[1.0])|(4,[0],[1.0])|(13,[0],[1.0])| (2,[0],[1.0])| (12,[0],[1.0])|  (4,[0],[1.0])|(3,[0],[1.0])|(5,[0],[1.0])|(6,[0],[1.0])|(9,[0],[1.0])|    (3,[1],[1.0])|(3,[0],[1.0])|(6,[0],[1.0])|(2,[0],[1.0])| (17,[1],[1.0])|(6,[0],[1.0])|   0|   1|       0|       0|       0|      0|     0|     0|        0|     0|        0|       0|     0|      1|        0|   0|      0|        0|       1|(109,[1,7,11,13,1...|\n",
            "|(7,[1],[1.0])| (4,[0],[1.0])|    (2,[0],[1.0])|(4,[0],[1.0])|(13,[0],[1.0])|     (2,[],[])| (12,[0],[1.0])|  (4,[0],[1.0])|(3,[1],[1.0])|(5,[0],[1.0])|(6,[0],[1.0])|(9,[0],[1.0])|    (3,[2],[1.0])|(3,[0],[1.0])|(6,[0],[1.0])|(2,[0],[1.0])| (17,[4],[1.0])|(6,[0],[1.0])|   1|   1|       0|       0|       0|      0|     2|     0|        0|     1|        0|       0|     0|      2|        0|   0|      0|        0|       4|(109,[1,7,11,13,1...|\n",
            "|(7,[3],[1.0])| (4,[0],[1.0])|        (2,[],[])|(4,[0],[1.0])|(13,[1],[1.0])|     (2,[],[])| (12,[1],[1.0])|      (4,[],[])|(3,[2],[1.0])|(5,[2],[1.0])|(6,[5],[1.0])|(9,[6],[1.0])|    (3,[1],[1.0])|(3,[0],[1.0])|(6,[3],[1.0])|(2,[1],[1.0])| (17,[7],[1.0])|(6,[0],[1.0])|   1|   3|       0|       2|       0|      1|     2|     1|        4|     2|        2|       5|     6|      1|        0|   0|      1|        3|       7|(109,[3,7,13,18,3...|\n",
            "|(7,[4],[1.0])| (4,[0],[1.0])|        (2,[],[])|(4,[1],[1.0])|(13,[0],[1.0])| (2,[1],[1.0])| (12,[1],[1.0])|  (4,[2],[1.0])|(3,[0],[1.0])|(5,[4],[1.0])|(6,[1],[1.0])|(9,[1],[1.0])|    (3,[1],[1.0])|(3,[0],[1.0])|(6,[3],[1.0])|(2,[1],[1.0])|(17,[11],[1.0])|(6,[0],[1.0])|   0|   4|       0|       2|       1|      0|     1|     1|        2|     0|        4|       1|     1|      1|        0|   0|      1|        3|      11|(109,[4,7,14,17,3...|\n",
            "|(7,[4],[1.0])| (4,[0],[1.0])|    (2,[1],[1.0])|(4,[0],[1.0])|(13,[0],[1.0])|     (2,[],[])| (12,[0],[1.0])|      (4,[],[])|(3,[2],[1.0])|(5,[2],[1.0])|    (6,[],[])|(9,[0],[1.0])|    (3,[1],[1.0])|    (3,[],[])|(6,[0],[1.0])|    (2,[],[])| (17,[5],[1.0])|(6,[0],[1.0])|   0|   4|       0|       1|       0|      0|     2|     0|        4|     2|        2|       6|     0|      1|        3|   0|      2|        0|       5|(109,[4,7,12,13,1...|\n",
            "|    (7,[],[])| (4,[0],[1.0])|        (2,[],[])|(4,[0],[1.0])|(13,[3],[1.0])|     (2,[],[])| (12,[0],[1.0])|      (4,[],[])|(3,[1],[1.0])|(5,[2],[1.0])|(6,[1],[1.0])|(9,[0],[1.0])|    (3,[1],[1.0])|    (3,[],[])|(6,[0],[1.0])|    (2,[],[])| (17,[6],[1.0])|(6,[0],[1.0])|   1|   7|       0|       2|       0|      3|     2|     0|        4|     1|        2|       1|     0|      1|        3|   0|      2|        0|       6|(109,[7,13,20,32,...|\n",
            "|(7,[4],[1.0])| (4,[0],[1.0])|        (2,[],[])|(4,[0],[1.0])|(13,[0],[1.0])|     (2,[],[])| (12,[1],[1.0])|      (4,[],[])|(3,[0],[1.0])|(5,[4],[1.0])|(6,[1],[1.0])|(9,[1],[1.0])|        (3,[],[])|(3,[0],[1.0])|(6,[5],[1.0])|(2,[1],[1.0])|(17,[12],[1.0])|(6,[0],[1.0])|   0|   4|       0|       2|       0|      0|     2|     1|        4|     0|        4|       1|     1|      3|        0|   0|      1|        5|      12|(109,[4,7,13,17,3...|\n",
            "|(7,[6],[1.0])| (4,[0],[1.0])|        (2,[],[])|(4,[0],[1.0])|(13,[0],[1.0])|     (2,[],[])| (12,[1],[1.0])|  (4,[2],[1.0])|(3,[2],[1.0])|(5,[4],[1.0])|(6,[1],[1.0])|(9,[3],[1.0])|    (3,[1],[1.0])|(3,[0],[1.0])|(6,[1],[1.0])|(2,[1],[1.0])|(17,[14],[1.0])|(6,[0],[1.0])|   0|   6|       0|       2|       0|      0|     2|     1|        2|     2|        4|       1|     3|      1|        0|   0|      1|        1|      14|(109,[6,7,13,17,3...|\n",
            "+-------------+--------------+-----------------+-------------+--------------+--------------+---------------+---------------+-------------+-------------+-------------+-------------+-----------------+-------------+-------------+-------------+---------------+-------------+----+----+--------+--------+--------+-------+------+------+---------+------+---------+--------+------+-------+---------+----+-------+---------+--------+--------------------+\n",
            "only showing top 20 rows\n",
            "\n"
          ],
          "name": "stdout"
        }
      ]
    },
    {
      "cell_type": "code",
      "metadata": {
        "id": "6W39-nd6n7XQ"
      },
      "source": [
        "#final model, k= 3, 4, or 5, sticking with 3\n",
        "from pyspark.ml.clustering import KMeans\n",
        "kmeans = KMeans(k=3)\n",
        "model = kmeans.fit(df1)"
      ],
      "execution_count": null,
      "outputs": []
    },
    {
      "cell_type": "code",
      "metadata": {
        "colab": {
          "base_uri": "https://localhost:8080/"
        },
        "id": "K5Rq4KDo4gGs",
        "outputId": "1ce15b30-bdca-43f5-a138-0d7fd74c08b1"
      },
      "source": [
        "predicted = model.transform(df1)\n",
        "predicted.show(3)"
      ],
      "execution_count": null,
      "outputs": [
        {
          "output_type": "stream",
          "text": [
            "+-------------+--------------+-----------------+-------------+--------------+--------------+---------------+---------------+-------------+-------------+-------------+-------------+-----------------+-------------+-------------+-------------+---------------+-------------+----+----+--------+--------+--------+-------+------+------+---------+------+---------+--------+------+-------+---------+----+-------+---------+--------+--------------------+----------+\n",
            "|          Age|Citizen Status|Disability Status|          Eng|    Child Numb|Numb Lang Spke|  Means Transpo|Military Status|       Weight|       Income|Spouse Status|   Work Class|School Enrollment|  Work Absnce|    Trav Time|      Work 89|          SchYr|          POB|iSex|dAge|iCitizen|iDisabl1|iEnglish|iFertil|iLang1|iMeans|iMilitary|dPwgt1|dRpincome|iRspouse|iClass|iSchool|iTmpabsnt|dPOB|iWork89|dTravTime|iYearsch|            features|prediction|\n",
            "+-------------+--------------+-----------------+-------------+--------------+--------------+---------------+---------------+-------------+-------------+-------------+-------------+-----------------+-------------+-------------+-------------+---------------+-------------+----+----+--------+--------+--------+-------+------+------+---------+------+---------+--------+------+-------+---------+----+-------+---------+--------+--------------------+----------+\n",
            "|(7,[5],[1.0])| (4,[0],[1.0])|        (2,[],[])|(4,[1],[1.0])|(13,[1],[1.0])| (2,[1],[1.0])| (12,[1],[1.0])|      (4,[],[])|(3,[1],[1.0])|(5,[3],[1.0])|(6,[3],[1.0])|(9,[5],[1.0])|    (3,[1],[1.0])|(3,[0],[1.0])|(6,[5],[1.0])|(2,[1],[1.0])|(17,[11],[1.0])|(6,[0],[1.0])|   1|   5|       0|       2|       1|      1|     1|     1|        4|     1|        3|       3|     5|      1|        0|   0|      1|        5|      11|(109,[5,7,14,18,3...|         2|\n",
            "|(7,[6],[1.0])| (4,[0],[1.0])|        (2,[],[])|(4,[0],[1.0])|(13,[3],[1.0])|     (2,[],[])| (12,[1],[1.0])|      (4,[],[])|(3,[2],[1.0])|(5,[2],[1.0])|(6,[1],[1.0])|(9,[7],[1.0])|    (3,[1],[1.0])|(3,[0],[1.0])|(6,[1],[1.0])|(2,[1],[1.0])| (17,[5],[1.0])|(6,[0],[1.0])|   1|   6|       0|       2|       0|      3|     2|     1|        4|     2|        2|       1|     7|      1|        0|   0|      1|        1|       5|(109,[6,7,13,20,3...|         2|\n",
            "|(7,[3],[1.0])| (4,[0],[1.0])|        (2,[],[])|(4,[0],[1.0])|(13,[1],[1.0])|     (2,[],[])|(12,[10],[1.0])|      (4,[],[])|(3,[1],[1.0])|(5,[2],[1.0])|    (6,[],[])|(9,[7],[1.0])|    (3,[1],[1.0])|(3,[0],[1.0])|(6,[2],[1.0])|(2,[1],[1.0])|(17,[10],[1.0])|(6,[0],[1.0])|   1|   3|       0|       2|       0|      1|     2|    10|        4|     1|        2|       6|     7|      1|        0|   0|      1|        2|      10|(109,[3,7,13,18,4...|         2|\n",
            "+-------------+--------------+-----------------+-------------+--------------+--------------+---------------+---------------+-------------+-------------+-------------+-------------+-----------------+-------------+-------------+-------------+---------------+-------------+----+----+--------+--------+--------+-------+------+------+---------+------+---------+--------+------+-------+---------+----+-------+---------+--------+--------------------+----------+\n",
            "only showing top 3 rows\n",
            "\n"
          ],
          "name": "stdout"
        }
      ]
    },
    {
      "cell_type": "code",
      "metadata": {
        "id": "TUunFAelRdGb"
      },
      "source": [
        "#Visualizing the Model"
      ],
      "execution_count": null,
      "outputs": []
    },
    {
      "cell_type": "code",
      "metadata": {
        "id": "F3k0_YuRRmq6",
        "colab": {
          "base_uri": "https://localhost:8080/"
        },
        "outputId": "2e104d54-be6e-4460-ee41-4ec282b876ac"
      },
      "source": [
        "centers = model.clusterCenters()\n",
        "#print(centers)\n",
        "from pyspark.ml.evaluation import ClusteringEvaluator\n",
        "evaluator = ClusteringEvaluator()\n",
        "silhouette = evaluator.evaluate(predicted)\n",
        "print(silhouette)"
      ],
      "execution_count": null,
      "outputs": [
        {
          "output_type": "stream",
          "text": [
            "0.34283075293362036\n"
          ],
          "name": "stdout"
        }
      ]
    },
    {
      "cell_type": "markdown",
      "metadata": {
        "id": "hM5NQyh2CDyN"
      },
      "source": [
        "### Evaluating k selection"
      ]
    },
    {
      "cell_type": "code",
      "metadata": {
        "id": "qevccUwBRpe5"
      },
      "source": [
        "#cost = model.computeCost(df1)\n",
        "#print(cost)"
      ],
      "execution_count": null,
      "outputs": []
    },
    {
      "cell_type": "code",
      "metadata": {
        "id": "U2_rfdx4WPp3"
      },
      "source": [
        "#import matplotlib.pyplot as plt\n",
        "#costs = []\n",
        "#for k in range(11,15):\n",
        "#  model = KMeans(k=k).fit(df1)\n",
        "#  costs.append(model.computeCost(df1))\n",
        "\n",
        "#plt.plot(range(11,15), costs)"
      ],
      "execution_count": null,
      "outputs": []
    },
    {
      "cell_type": "code",
      "metadata": {
        "id": "55Q9N0O9xDlL"
      },
      "source": [
        "#from pyspark.ml.evaluation import ClusteringEvaluator\n",
        "#evaluator = ClusteringEvaluator()\n",
        "#silhouette = evaluator.evaluate(predicted)\n",
        "#print(silhouette)"
      ],
      "execution_count": null,
      "outputs": []
    },
    {
      "cell_type": "code",
      "metadata": {
        "id": "s1peSXrbyI-7"
      },
      "source": [
        "#silhouettes = []\n",
        "#for k in range(11, 15):\n",
        "#  predicted = KMeans(k=k).fit(df1).transform(df1)\n",
        "#  silhouettes.append(evaluator.evaluate(predicted))\n",
        "\n",
        "#plt.plot(range(11,15), silhouettes)"
      ],
      "execution_count": null,
      "outputs": []
    },
    {
      "cell_type": "code",
      "metadata": {
        "id": "q_yhMLx0yiU1"
      },
      "source": [
        "#fig, axes = plt.subplots(nrows=1, ncols=2, figsize=(15,5))\n",
        "#axes[0].plot(range(2,10), costs)\n",
        "#axes[0].title.set_text('Cost vs k')\n",
        "#axes[1].plot(range(2,10), silhouettes)\n",
        "#axes[1].title.set_text('Silhouette vs k')"
      ],
      "execution_count": null,
      "outputs": []
    },
    {
      "cell_type": "code",
      "metadata": {
        "id": "Ywemcq0touPU"
      },
      "source": [
        ""
      ],
      "execution_count": null,
      "outputs": []
    },
    {
      "cell_type": "markdown",
      "metadata": {
        "id": "HyKpdRoC8ro8"
      },
      "source": [
        "### Hierarchical Clustering"
      ]
    },
    {
      "cell_type": "code",
      "metadata": {
        "id": "tEXVq7zT8tXW"
      },
      "source": [
        "from pyspark.ml.clustering import BisectingKMeans\n",
        "from pyspark.ml.evaluation import ClusteringEvaluator"
      ],
      "execution_count": null,
      "outputs": []
    },
    {
      "cell_type": "code",
      "metadata": {
        "id": "z8n1YNlpGXVJ"
      },
      "source": [
        "bkm = BisectingKMeans().setK(8).setSeed(1)\n",
        "h_model = bkm.fit(df1)"
      ],
      "execution_count": null,
      "outputs": []
    },
    {
      "cell_type": "code",
      "metadata": {
        "id": "0XIxau2-Gu2h"
      },
      "source": [
        "predictions = h_model.transform(df1)"
      ],
      "execution_count": null,
      "outputs": []
    },
    {
      "cell_type": "code",
      "metadata": {
        "colab": {
          "base_uri": "https://localhost:8080/"
        },
        "id": "6VKKjeIz3x0v",
        "outputId": "ec0ce7fc-2e12-4130-c6d0-e60bd201ebc1"
      },
      "source": [
        "from pyspark.ml.evaluation import ClusteringEvaluator\n",
        "evaluator = ClusteringEvaluator()\n",
        "silhouette = evaluator.evaluate(predictions)\n",
        "print(silhouette)"
      ],
      "execution_count": null,
      "outputs": [
        {
          "output_type": "stream",
          "text": [
            "0.21634012305674494\n"
          ],
          "name": "stdout"
        }
      ]
    },
    {
      "cell_type": "code",
      "metadata": {
        "id": "Xb_kSEFKz-XL"
      },
      "source": [
        "silhouette_h1 = []"
      ],
      "execution_count": null,
      "outputs": []
    },
    {
      "cell_type": "code",
      "metadata": {
        "id": "o-U34T-PKcXO",
        "colab": {
          "base_uri": "https://localhost:8080/",
          "height": 282
        },
        "outputId": "9d025ee6-da6c-4302-adf6-01e6447caded"
      },
      "source": [
        "import matplotlib.pyplot as plt\n",
        "plt.plot(range(2,6), silhouette_h1)"
      ],
      "execution_count": null,
      "outputs": [
        {
          "output_type": "execute_result",
          "data": {
            "text/plain": [
              "[<matplotlib.lines.Line2D at 0x7fc166875278>]"
            ]
          },
          "metadata": {
            "tags": []
          },
          "execution_count": 69
        },
        {
          "output_type": "display_data",
          "data": {
            "image/png": "[encoded data removed]",
            "text/plain": [
              "<Figure size 432x288 with 1 Axes>"
            ]
          },
          "metadata": {
            "tags": [],
            "needs_background": "light"
          }
        }
      ]
    },
    {
      "cell_type": "markdown",
      "metadata": {
        "id": "1QfViYnzkmal"
      },
      "source": [
        "###  Visualizing The final Model Results"
      ]
    },
    {
      "cell_type": "code",
      "metadata": {
        "colab": {
          "base_uri": "https://localhost:8080/"
        },
        "id": "1zFh0ET4DTdo",
        "outputId": "9186fb50-614d-43b6-ede9-e168f6d42e71"
      },
      "source": [
        "cols = predicted.columns[18:39]\n",
        "cols"
      ],
      "execution_count": null,
      "outputs": [
        {
          "output_type": "execute_result",
          "data": {
            "text/plain": [
              "['iSex',\n",
              " 'dAge',\n",
              " 'iCitizen',\n",
              " 'iDisabl1',\n",
              " 'iEnglish',\n",
              " 'iFertil',\n",
              " 'iLang1',\n",
              " 'iMeans',\n",
              " 'iMilitary',\n",
              " 'dPwgt1',\n",
              " 'dRpincome',\n",
              " 'iRspouse',\n",
              " 'iClass',\n",
              " 'iSchool',\n",
              " 'iTmpabsnt',\n",
              " 'dPOB',\n",
              " 'iWork89',\n",
              " 'dTravTime',\n",
              " 'iYearsch',\n",
              " 'features',\n",
              " 'prediction']"
            ]
          },
          "metadata": {
            "tags": []
          },
          "execution_count": 57
        }
      ]
    },
    {
      "cell_type": "code",
      "metadata": {
        "colab": {
          "base_uri": "https://localhost:8080/"
        },
        "id": "iSduPmOJk--l",
        "outputId": "6becf9de-c4bd-4566-881b-35337ee883fa"
      },
      "source": [
        "pdf = predicted.select(cols)\n",
        "pdf = pdf.drop('features')\n",
        "pdf.show(5)"
      ],
      "execution_count": null,
      "outputs": [
        {
          "output_type": "stream",
          "text": [
            "+----+----+--------+--------+--------+-------+------+------+---------+------+---------+--------+------+-------+---------+----+-------+---------+--------+----------+\n",
            "|iSex|dAge|iCitizen|iDisabl1|iEnglish|iFertil|iLang1|iMeans|iMilitary|dPwgt1|dRpincome|iRspouse|iClass|iSchool|iTmpabsnt|dPOB|iWork89|dTravTime|iYearsch|prediction|\n",
            "+----+----+--------+--------+--------+-------+------+------+---------+------+---------+--------+------+-------+---------+----+-------+---------+--------+----------+\n",
            "|   1|   5|       0|       2|       1|      1|     1|     1|        4|     1|        3|       3|     5|      1|        0|   0|      1|        5|      11|         2|\n",
            "|   1|   6|       0|       2|       0|      3|     2|     1|        4|     2|        2|       1|     7|      1|        0|   0|      1|        1|       5|         2|\n",
            "|   1|   3|       0|       2|       0|      1|     2|    10|        4|     1|        2|       6|     7|      1|        0|   0|      1|        2|      10|         2|\n",
            "|   1|   4|       0|       2|       0|      3|     2|     1|        4|     1|        2|       4|     1|      1|        0|   0|      1|        1|      10|         2|\n",
            "|   1|   7|       0|       2|       0|      3|     2|     0|        4|     1|        2|       1|     0|      1|        3|   0|      2|        0|       5|         1|\n",
            "+----+----+--------+--------+--------+-------+------+------+---------+------+---------+--------+------+-------+---------+----+-------+---------+--------+----------+\n",
            "only showing top 5 rows\n",
            "\n"
          ],
          "name": "stdout"
        }
      ]
    },
    {
      "cell_type": "code",
      "metadata": {
        "id": "jX_5-uPdo88E"
      },
      "source": [
        "import pandas as pd\n",
        "pdf = pdf.toPandas()"
      ],
      "execution_count": null,
      "outputs": []
    },
    {
      "cell_type": "code",
      "metadata": {
        "colab": {
          "base_uri": "https://localhost:8080/",
          "height": 110
        },
        "id": "GvtpcHwWHLhF",
        "outputId": "3689f999-d224-48d8-ff18-41f52722adf7"
      },
      "source": [
        "pdf.head(2)"
      ],
      "execution_count": null,
      "outputs": [
        {
          "output_type": "execute_result",
          "data": {
            "text/html": [
              "<div>\n",
              "<style scoped>\n",
              "    .dataframe tbody tr th:only-of-type {\n",
              "        vertical-align: middle;\n",
              "    }\n",
              "\n",
              "    .dataframe tbody tr th {\n",
              "        vertical-align: top;\n",
              "    }\n",
              "\n",
              "    .dataframe thead th {\n",
              "        text-align: right;\n",
              "    }\n",
              "</style>\n",
              "<table border=\"1\" class=\"dataframe\">\n",
              "  <thead>\n",
              "    <tr style=\"text-align: right;\">\n",
              "      <th></th>\n",
              "      <th>iSex</th>\n",
              "      <th>dAge</th>\n",
              "      <th>iCitizen</th>\n",
              "      <th>iDisabl1</th>\n",
              "      <th>iEnglish</th>\n",
              "      <th>iFertil</th>\n",
              "      <th>iLang1</th>\n",
              "      <th>iMeans</th>\n",
              "      <th>iMilitary</th>\n",
              "      <th>dPwgt1</th>\n",
              "      <th>dRpincome</th>\n",
              "      <th>iRspouse</th>\n",
              "      <th>iClass</th>\n",
              "      <th>iSchool</th>\n",
              "      <th>iTmpabsnt</th>\n",
              "      <th>dPOB</th>\n",
              "      <th>iWork89</th>\n",
              "      <th>dTravTime</th>\n",
              "      <th>iYearsch</th>\n",
              "      <th>prediction</th>\n",
              "    </tr>\n",
              "  </thead>\n",
              "  <tbody>\n",
              "    <tr>\n",
              "      <th>0</th>\n",
              "      <td>1</td>\n",
              "      <td>5</td>\n",
              "      <td>0</td>\n",
              "      <td>2</td>\n",
              "      <td>1</td>\n",
              "      <td>1</td>\n",
              "      <td>1</td>\n",
              "      <td>1</td>\n",
              "      <td>4</td>\n",
              "      <td>1</td>\n",
              "      <td>3</td>\n",
              "      <td>3</td>\n",
              "      <td>5</td>\n",
              "      <td>1</td>\n",
              "      <td>0</td>\n",
              "      <td>0</td>\n",
              "      <td>1</td>\n",
              "      <td>5</td>\n",
              "      <td>11</td>\n",
              "      <td>2</td>\n",
              "    </tr>\n",
              "    <tr>\n",
              "      <th>1</th>\n",
              "      <td>1</td>\n",
              "      <td>6</td>\n",
              "      <td>0</td>\n",
              "      <td>2</td>\n",
              "      <td>0</td>\n",
              "      <td>3</td>\n",
              "      <td>2</td>\n",
              "      <td>1</td>\n",
              "      <td>4</td>\n",
              "      <td>2</td>\n",
              "      <td>2</td>\n",
              "      <td>1</td>\n",
              "      <td>7</td>\n",
              "      <td>1</td>\n",
              "      <td>0</td>\n",
              "      <td>0</td>\n",
              "      <td>1</td>\n",
              "      <td>1</td>\n",
              "      <td>5</td>\n",
              "      <td>2</td>\n",
              "    </tr>\n",
              "  </tbody>\n",
              "</table>\n",
              "</div>"
            ],
            "text/plain": [
              "   iSex  dAge  iCitizen  iDisabl1  ...  iWork89  dTravTime  iYearsch  prediction\n",
              "0     1     5         0         2  ...        1          5        11           2\n",
              "1     1     6         0         2  ...        1          1         5           2\n",
              "\n",
              "[2 rows x 20 columns]"
            ]
          },
          "metadata": {
            "tags": []
          },
          "execution_count": 61
        }
      ]
    },
    {
      "cell_type": "code",
      "metadata": {
        "id": "XG30TITcJHq4"
      },
      "source": [
        "pdf0 = pdf[pdf.prediction == 0]\n",
        "pdf1 = pdf[pdf.prediction == 1]\n",
        "pdf2 = pdf[pdf.prediction == 2]"
      ],
      "execution_count": null,
      "outputs": []
    },
    {
      "cell_type": "code",
      "metadata": {
        "colab": {
          "base_uri": "https://localhost:8080/"
        },
        "id": "wDEH9JVsn_7n",
        "outputId": "65068401-ed05-4920-bc35-d9498e2c7ef6"
      },
      "source": [
        "#Cluster Sizes\n",
        "print(\"cluster1 size:\", len(pdf0))\n",
        "print(\"cluster2 size:\", len(pdf1))\n",
        "print(\"cluster3 size:\", len(pdf2))"
      ],
      "execution_count": null,
      "outputs": [
        {
          "output_type": "stream",
          "text": [
            "cluster1 size: 574468\n",
            "cluster2 size: 771305\n",
            "cluster3 size: 1112512\n"
          ],
          "name": "stdout"
        }
      ]
    },
    {
      "cell_type": "code",
      "metadata": {
        "colab": {
          "base_uri": "https://localhost:8080/",
          "height": 140
        },
        "id": "TikKeizOKNLt",
        "outputId": "3ca6a11d-001a-4c86-e4a8-f6c7974d8210"
      },
      "source": [
        "pdf1.head(3)"
      ],
      "execution_count": null,
      "outputs": [
        {
          "output_type": "execute_result",
          "data": {
            "text/html": [
              "<div>\n",
              "<style scoped>\n",
              "    .dataframe tbody tr th:only-of-type {\n",
              "        vertical-align: middle;\n",
              "    }\n",
              "\n",
              "    .dataframe tbody tr th {\n",
              "        vertical-align: top;\n",
              "    }\n",
              "\n",
              "    .dataframe thead th {\n",
              "        text-align: right;\n",
              "    }\n",
              "</style>\n",
              "<table border=\"1\" class=\"dataframe\">\n",
              "  <thead>\n",
              "    <tr style=\"text-align: right;\">\n",
              "      <th></th>\n",
              "      <th>iSex</th>\n",
              "      <th>dAge</th>\n",
              "      <th>iCitizen</th>\n",
              "      <th>iDisabl1</th>\n",
              "      <th>iEnglish</th>\n",
              "      <th>iFertil</th>\n",
              "      <th>iLang1</th>\n",
              "      <th>iMeans</th>\n",
              "      <th>iMilitary</th>\n",
              "      <th>dPwgt1</th>\n",
              "      <th>dRpincome</th>\n",
              "      <th>iRspouse</th>\n",
              "      <th>iClass</th>\n",
              "      <th>iSchool</th>\n",
              "      <th>iTmpabsnt</th>\n",
              "      <th>dPOB</th>\n",
              "      <th>iWork89</th>\n",
              "      <th>dTravTime</th>\n",
              "      <th>iYearsch</th>\n",
              "      <th>prediction</th>\n",
              "    </tr>\n",
              "  </thead>\n",
              "  <tbody>\n",
              "    <tr>\n",
              "      <th>4</th>\n",
              "      <td>1</td>\n",
              "      <td>7</td>\n",
              "      <td>0</td>\n",
              "      <td>2</td>\n",
              "      <td>0</td>\n",
              "      <td>3</td>\n",
              "      <td>2</td>\n",
              "      <td>0</td>\n",
              "      <td>4</td>\n",
              "      <td>1</td>\n",
              "      <td>2</td>\n",
              "      <td>1</td>\n",
              "      <td>0</td>\n",
              "      <td>1</td>\n",
              "      <td>3</td>\n",
              "      <td>0</td>\n",
              "      <td>2</td>\n",
              "      <td>0</td>\n",
              "      <td>5</td>\n",
              "      <td>1</td>\n",
              "    </tr>\n",
              "    <tr>\n",
              "      <th>8</th>\n",
              "      <td>1</td>\n",
              "      <td>6</td>\n",
              "      <td>0</td>\n",
              "      <td>2</td>\n",
              "      <td>0</td>\n",
              "      <td>7</td>\n",
              "      <td>2</td>\n",
              "      <td>0</td>\n",
              "      <td>4</td>\n",
              "      <td>1</td>\n",
              "      <td>2</td>\n",
              "      <td>1</td>\n",
              "      <td>1</td>\n",
              "      <td>1</td>\n",
              "      <td>3</td>\n",
              "      <td>0</td>\n",
              "      <td>1</td>\n",
              "      <td>0</td>\n",
              "      <td>10</td>\n",
              "      <td>1</td>\n",
              "    </tr>\n",
              "    <tr>\n",
              "      <th>9</th>\n",
              "      <td>0</td>\n",
              "      <td>3</td>\n",
              "      <td>0</td>\n",
              "      <td>2</td>\n",
              "      <td>0</td>\n",
              "      <td>0</td>\n",
              "      <td>2</td>\n",
              "      <td>0</td>\n",
              "      <td>2</td>\n",
              "      <td>1</td>\n",
              "      <td>2</td>\n",
              "      <td>6</td>\n",
              "      <td>1</td>\n",
              "      <td>1</td>\n",
              "      <td>1</td>\n",
              "      <td>0</td>\n",
              "      <td>1</td>\n",
              "      <td>0</td>\n",
              "      <td>8</td>\n",
              "      <td>1</td>\n",
              "    </tr>\n",
              "  </tbody>\n",
              "</table>\n",
              "</div>"
            ],
            "text/plain": [
              "   iSex  dAge  iCitizen  iDisabl1  ...  iWork89  dTravTime  iYearsch  prediction\n",
              "4     1     7         0         2  ...        2          0         5           1\n",
              "8     1     6         0         2  ...        1          0        10           1\n",
              "9     0     3         0         2  ...        1          0         8           1\n",
              "\n",
              "[3 rows x 20 columns]"
            ]
          },
          "metadata": {
            "tags": []
          },
          "execution_count": 76
        }
      ]
    },
    {
      "cell_type": "code",
      "metadata": {
        "colab": {
          "base_uri": "https://localhost:8080/",
          "height": 319
        },
        "id": "4mDRkHRWJdB1",
        "outputId": "44e0a272-1bef-4cef-f38f-4f5e82349cec"
      },
      "source": [
        "col_int = 'dTravTime'\n",
        "pdf0.hist(column=col_int, grid = False, xlabelsize = 14, ylabelsize = 14)"
      ],
      "execution_count": null,
      "outputs": [
        {
          "output_type": "execute_result",
          "data": {
            "text/plain": [
              "array([[<matplotlib.axes._subplots.AxesSubplot object at 0x7f89a3f58f60>]],\n",
              "      dtype=object)"
            ]
          },
          "metadata": {
            "tags": []
          },
          "execution_count": 211
        },
        {
          "output_type": "display_data",
          "data": {
            "image/png": "[encoded data removed]",
            "text/plain": [
              "<Figure size 432x288 with 1 Axes>"
            ]
          },
          "metadata": {
            "tags": [],
            "needs_background": "light"
          }
        }
      ]
    },
    {
      "cell_type": "code",
      "metadata": {
        "colab": {
          "base_uri": "https://localhost:8080/",
          "height": 319
        },
        "id": "kybMGar1KTZT",
        "outputId": "6a6093f1-b311-4cce-8538-a46502163f6e"
      },
      "source": [
        "pdf1.hist(column=col_int, grid = False, xlabelsize = 14, ylabelsize = 14)"
      ],
      "execution_count": null,
      "outputs": [
        {
          "output_type": "execute_result",
          "data": {
            "text/plain": [
              "array([[<matplotlib.axes._subplots.AxesSubplot object at 0x7f89a3f0f438>]],\n",
              "      dtype=object)"
            ]
          },
          "metadata": {
            "tags": []
          },
          "execution_count": 212
        },
        {
          "output_type": "display_data",
          "data": {
            "image/png": "[encoded data removed]",
            "text/plain": [
              "<Figure size 432x288 with 1 Axes>"
            ]
          },
          "metadata": {
            "tags": [],
            "needs_background": "light"
          }
        }
      ]
    },
    {
      "cell_type": "code",
      "metadata": {
        "colab": {
          "base_uri": "https://localhost:8080/",
          "height": 319
        },
        "id": "QlaWdEfKKTiD",
        "outputId": "7882e09f-abf6-4ae0-8318-6087a927390a"
      },
      "source": [
        "pdf2.hist(column=col_int, grid = False, xlabelsize = 14, ylabelsize = 14)"
      ],
      "execution_count": null,
      "outputs": [
        {
          "output_type": "execute_result",
          "data": {
            "text/plain": [
              "array([[<matplotlib.axes._subplots.AxesSubplot object at 0x7f89a3e8b898>]],\n",
              "      dtype=object)"
            ]
          },
          "metadata": {
            "tags": []
          },
          "execution_count": 213
        },
        {
          "output_type": "display_data",
          "data": {
            "image/png": "[encoded data removed]",
            "text/plain": [
              "<Figure size 432x288 with 1 Axes>"
            ]
          },
          "metadata": {
            "tags": [],
            "needs_background": "light"
          }
        }
      ]
    },
    {
      "cell_type": "code",
      "metadata": {
        "colab": {
          "base_uri": "https://localhost:8080/",
          "height": 300
        },
        "id": "vVNT8NGZHkW0",
        "outputId": "ce00d064-961b-4fee-c62d-8f0f162755b7"
      },
      "source": [
        "import matplotlib.pyplot as plt\n",
        "fig, ax = plt.subplots()\n",
        "#test_df.plot(kind=\"scatter\", x=\"X\", y=\"Y\", s=50, c=\"C\", cmap=\"plasma\", ax=ax);\n",
        "pdf.plot.scatter(x='iYearsch',\n",
        "                 y='iRspouse',\n",
        "                 c='prediction',\n",
        "                 colormap='jet',\n",
        "                 ax = ax\n",
        "                )"
      ],
      "execution_count": null,
      "outputs": [
        {
          "output_type": "execute_result",
          "data": {
            "text/plain": [
              "<matplotlib.axes._subplots.AxesSubplot at 0x7f89a4820a90>"
            ]
          },
          "metadata": {
            "tags": []
          },
          "execution_count": 195
        },
        {
          "output_type": "display_data",
          "data": {
            "image/png": "[encoded data removed]",
            "text/plain": [
              "<Figure size 432x288 with 2 Axes>"
            ]
          },
          "metadata": {
            "tags": [],
            "needs_background": "light"
          }
        }
      ]
    },
    {
      "cell_type": "markdown",
      "metadata": {
        "id": "m3Fd51JLEpJs"
      },
      "source": [
        "### Dendrogram"
      ]
    },
    {
      "cell_type": "code",
      "metadata": {
        "id": "1j-oCj7OEqSL"
      },
      "source": [
        ""
      ],
      "execution_count": null,
      "outputs": []
    }
  ]
}